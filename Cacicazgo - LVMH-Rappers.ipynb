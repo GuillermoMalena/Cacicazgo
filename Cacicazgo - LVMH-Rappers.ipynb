{
 "cells": [
  {
   "cell_type": "markdown",
   "metadata": {},
   "source": [
    "## import Python packages"
   ]
  },
  {
   "cell_type": "code",
   "execution_count": 2,
   "metadata": {
    "collapsed": true
   },
   "outputs": [],
   "source": [
    "from lyricsgenius import Genius\n",
    "import pandas as pd\n",
    "import requests\n",
    "from itertools import chain\n",
    "from collections import Counter\n",
    "from string import punctuation\n",
    "import json\n",
    "import spotipy\n",
    "from spotipy.oauth2 import SpotifyClientCredentials\n",
    "import time\n",
    "import re\n",
    "tbl = str.maketrans({ord(ch):\" \" for ch in punctuation})"
   ]
  },
  {
   "cell_type": "markdown",
   "metadata": {},
   "source": [
    "## authenticate Genius API"
   ]
  },
  {
   "cell_type": "code",
   "execution_count": 2,
   "metadata": {
    "collapsed": true
   },
   "outputs": [],
   "source": [
    "token  = 'zvYH5XVlo2URyfxjtHK-4aypOPl63Dved-diSY-FK82a6hAOgq7yNUIsrG1dchEC'\n",
    "genius = Genius(token)"
   ]
  },
  {
   "cell_type": "markdown",
   "metadata": {},
   "source": [
    "## authenticate Spotify API"
   ]
  },
  {
   "cell_type": "code",
   "execution_count": 3,
   "metadata": {
    "collapsed": true
   },
   "outputs": [],
   "source": [
    "cid  ='4bbdc8c4be9f415080b262deb3e33c16'\n",
    "secret ='8b4a63460af64e30b702d27c1dafda4f'"
   ]
  },
  {
   "cell_type": "code",
   "execution_count": 4,
   "metadata": {
    "collapsed": true
   },
   "outputs": [],
   "source": [
    "client_credentials_manager = SpotifyClientCredentials(client_id=cid, client_secret=secret)\n",
    "sp = spotipy.Spotify(client_credentials_manager = client_credentials_manager)"
   ]
  },
  {
   "cell_type": "markdown",
   "metadata": {
    "collapsed": true
   },
   "source": [
    "### Below takes in all the different LVMH brands"
   ]
  },
  {
   "cell_type": "code",
   "execution_count": 5,
   "metadata": {
    "collapsed": true
   },
   "outputs": [],
   "source": [
    "lvmh = ['birkin','henny','hennessy','dior','louis','lv','hermes','moet','louis vuitton','vuitton','dom pérignon',\n",
    "       'dom','perignon','hublot','givenchy','fendi','fenty','tiffany','christian','christian dior','marc',\n",
    "        'bulgari','marc jacob','jacob']"
   ]
  },
  {
   "cell_type": "markdown",
   "metadata": {
    "collapsed": true
   },
   "source": [
    "### Below function pulls the lyrics of each song and counts the frequency of how many times a LVMH brand is \n",
    "### mentioned in the song's lyrics"
   ]
  },
  {
   "cell_type": "code",
   "execution_count": 7,
   "metadata": {
    "collapsed": true
   },
   "outputs": [],
   "source": [
    "def lyric_counter(song_df,word_list):\n",
    "    total_counter = {}\n",
    "    lyrics = song_df['lyrics']\n",
    "    artist = song_df['artist']\n",
    "    for i in range(len(lyrics)):\n",
    "        print(album_df['song'][i])\n",
    "        lyric = lyrics[i]\n",
    "        count = Counter(lyric.lower().translate(tbl).split())\n",
    "        d =  {key.lower(): count[key] for key in count if key in word_list}\n",
    "        total_counter = dict(Counter(d)+Counter(total_counter))\n",
    "    return total_counter\n",
    "    "
   ]
  },
  {
   "cell_type": "markdown",
   "metadata": {},
   "source": [
    "### Below function takes a Spotify playlist and a given year, pulls the song, artist and song ID from Spotify. \n",
    "### Using the song and artist, it uses Genius API to search for the song and its corresponding meta data. Both the\n",
    "### Spotify and Genius API is saved in the dataframe and then output to a .csv file "
   ]
  },
  {
   "cell_type": "code",
   "execution_count": null,
   "metadata": {
    "collapsed": true
   },
   "outputs": [],
   "source": [
    "def get_songs(playlist,year):\n",
    "    song_row = pd.DataFrame()\n",
    "    playlist = sp.playlist(playlist)\n",
    "    song_df = pd.DataFrame()\n",
    "    for track in range(len(playlist['tracks']['items'])):\n",
    "        try:\n",
    "            print(track)\n",
    "            song_name = playlist['tracks']['items'][track]['track']['name']\n",
    "            sp_artist = playlist['tracks']['items'][track]['track']['artists'][0]['name']\n",
    "            sp_song_id = playlist['tracks']['items'][track]['track']['id']\n",
    "            sp_artist_id = playlist['tracks']['items'][track]['track']['artists'][0]['id']\n",
    "            song_name = re.sub(r\"\\([^()]*\\)\", \"\", song_name)\n",
    "            song_search = genius.search_song(song_name, sp_artist)\n",
    "\n",
    "            song_json = song_search.to_json()\n",
    "            song_dict = json.loads(song_json)\n",
    "            time.sleep(1)\n",
    "            song_id = song_dict['id']\n",
    "            df_artist = sp_artist\n",
    "            song = song_name\n",
    "            lyrics = genius.lyrics(song_id)\n",
    "            song_id = str(song_dict['id'])\n",
    "            song_df = song_df.append(\n",
    "            {'rtist': song_search.artist,\n",
    "             'year':year,\n",
    "            'song' : song_name,\n",
    "            'Genius artist_id':str(song_dict['primary_artist']['id']),\n",
    "            'Genius song_id': song_id,\n",
    "             'Spotify song_id': sp_song_id,\n",
    "             'Spotify artist_id': sp_artist_id,\n",
    "            'lyrics': lyrics},\n",
    "            ignore_index=True\n",
    "            )\n",
    "        except:\n",
    "            pass\n",
    "        \n",
    "    file_name = year+'rap_lyrics_database.csv'\n",
    "    song_df.to_csv(file_name)\n",
    "    print(f'Completed storing all lyrics for {year}')\n",
    "    return song_df    "
   ]
  },
  {
   "cell_type": "markdown",
   "metadata": {
    "collapsed": true
   },
   "source": [
    "### Creates a Pandas dataframe for the counts of LVMH brands in lyrics"
   ]
  },
  {
   "cell_type": "code",
   "execution_count": 9,
   "metadata": {
    "collapsed": true
   },
   "outputs": [],
   "source": [
    "def create_counts(df,year):\n",
    "    counts = lyric_counter(df,lvmh)\n",
    "    counts_df = pd.DataFrame.from_dict(counts,orient='index').rename(columns ={0:year})\n",
    "    return counts_df"
   ]
  },
  {
   "cell_type": "markdown",
   "metadata": {
    "collapsed": true
   },
   "source": [
    "### Python dictionary with all of years and Spotify URIs of Spotify Playlist of top Rap songs for that respective\n",
    "### year"
   ]
  },
  {
   "cell_type": "code",
   "execution_count": null,
   "metadata": {
    "collapsed": true
   },
   "outputs": [],
   "source": [
    "playlists = {'2016':'6hAQqJYxe5mt9jWQjjwZde',\n",
    "             '2017':'5ZXRYuiSQZeQKRhDFSgO3b',\n",
    "             '2018':'5FyRUTsjmvQqBZnnnjFUmq',\n",
    "             '2019':'1BCCebMPU7qCgEg8oy0cq4',\n",
    "             '2020':'6Pw0qVok3XrfyER6ZvFD5V',\n",
    "}"
   ]
  },
  {
   "cell_type": "markdown",
   "metadata": {
    "collapsed": true
   },
   "source": [
    "### Loop through each year & playlist, and count LVMH brands for each song, output the count dataframe to a .csv file"
   ]
  },
  {
   "cell_type": "code",
   "execution_count": null,
   "metadata": {
    "collapsed": true
   },
   "outputs": [],
   "source": [
    "for year, playlist in playlists.items():\n",
    "    try:\n",
    "        songs_all = get_songs(playlist,year)\n",
    "        counts_all = create_counts(songs_all,year)\n",
    "        count_filename = year+'lvmh_counts_database.csv'\n",
    "        counts_all.to_csv(count_filename)\n",
    "        print(f'Completed all counts for {year}')\n",
    "    except TypeError:\n",
    "        print(f'Error found in {year}, skipping to next')\n",
    "        time.sleep(5)"
   ]
  },
  {
   "cell_type": "markdown",
   "metadata": {
    "collapsed": true
   },
   "source": [
    "### Read all the .csv files into Pandas dataframes"
   ]
  },
  {
   "cell_type": "code",
   "execution_count": null,
   "metadata": {
    "collapsed": true
   },
   "outputs": [],
   "source": [
    "counts_2020 = pd.read_csv('2020lvmh_counts_database.csv')\n",
    "counts_2019 = pd.read_csv('2019lvmh_counts_database.csv')\n",
    "counts_2018 = pd.read_csv('2018lvmh_counts_database.csv')\n",
    "counts_2017 = pd.read_csv('2017lvmh_counts_database.csv')\n",
    "counts_2016 = pd.read_csv('2016lvmh_counts_database.csv')\n",
    "counts_2015 = pd.read_csv('2015lvmh_counts_database.csv')\n"
   ]
  },
  {
   "cell_type": "markdown",
   "metadata": {
    "collapsed": true
   },
   "source": [
    "### Merge all of them to one big dataframe"
   ]
  },
  {
   "cell_type": "code",
   "execution_count": null,
   "metadata": {
    "collapsed": true
   },
   "outputs": [],
   "source": [
    "counts = counts_2020.merge(counts_2019,how='outer')\n",
    "counts = counts.merge(counts_2018,how='outer')\n",
    "counts = counts.merge(counts_2017,how='outer')\n",
    "counts = counts.merge(counts_2016,how='outer')\n",
    "counts = counts.merge(counts_2015,how='outer')"
   ]
  },
  {
   "cell_type": "markdown",
   "metadata": {
    "collapsed": true
   },
   "source": [
    "### Rename columns into years and brands"
   ]
  },
  {
   "cell_type": "code",
   "execution_count": null,
   "metadata": {
    "collapsed": true
   },
   "outputs": [],
   "source": [
    "counts.rename(columns={'Unnamed: 0':'Brands'},inplace=True)"
   ]
  },
  {
   "cell_type": "code",
   "execution_count": null,
   "metadata": {
    "collapsed": true
   },
   "outputs": [],
   "source": [
    "counts['Total']= counts.sum(axis=1,numeric_only=True)\n",
    "counts = counts[['Brands','2015','2016','2017','2018','2019','2020','Total']]\n",
    "counts = counts.sort_values(by='Total',ascending=False)\n",
    "counts = counts.set_index('Brands')\n",
    "counts"
   ]
  },
  {
   "cell_type": "markdown",
   "metadata": {
    "collapsed": true
   },
   "source": [
    "### Aggregate counts of any brands with multiple names(i.e henny and hennessy) into one"
   ]
  },
  {
   "cell_type": "code",
   "execution_count": null,
   "metadata": {
    "collapsed": true
   },
   "outputs": [],
   "source": [
    "hennessy = counts.loc['henny'] + counts.loc['hennessy']\n",
    "louisv = counts.loc['louis'] + counts.loc['vuitton']\n",
    "christiandior = counts.loc['christian'] + counts.loc['dior']\n",
    "marcjacobs = counts.loc['marc'] + counts.loc['jacob']\n",
    "hennessy.name = 'henny/hennessy'\n",
    "louisv.name = 'louis vuitton'\n",
    "christiandior.name = 'christian dior'\n",
    "marcjacobs.name = 'marc jacobs'\n",
    "counts = counts.append([hennessy])\n",
    "counts = counts.append([louisv])\n",
    "counts = counts.append([christiandior])\n",
    "counts = counts.append([marcjacobs])"
   ]
  },
  {
   "cell_type": "markdown",
   "metadata": {
    "collapsed": true
   },
   "source": [
    "### Sort by total"
   ]
  },
  {
   "cell_type": "code",
   "execution_count": null,
   "metadata": {
    "collapsed": true
   },
   "outputs": [],
   "source": [
    "counts = counts.sort_values(by='Total',ascending=False)\n",
    "counts"
   ]
  },
  {
   "cell_type": "markdown",
   "metadata": {
    "collapsed": true
   },
   "source": [
    "## Next step: Now that we have all rap songs, their artists, and the frequency of using LVMH brands, next step is\n",
    "## to see which of these brands are being streamed the most using Spotify's Chart data from spotifychart.com"
   ]
  },
  {
   "cell_type": "markdown",
   "metadata": {
    "collapsed": true
   },
   "source": [
    "### Download all the Spotify streaming data and merge it into one big dataframe"
   ]
  },
  {
   "cell_type": "code",
   "execution_count": null,
   "metadata": {
    "collapsed": true
   },
   "outputs": [],
   "source": [
    "import os\n",
    "path = '/Users/Arturo/Desktop/Cacicazgo/Code/Genius-API/spotify_streams'\n",
    "file_list = os.listdir(path) \n",
    "final_df = pd.DataFrame()\n",
    "for file in file_list:\n",
    "    newpath = os.path.join(path, file)\n",
    "    df = pd.read_csv(newpath)\n",
    "    print(newpath)\n",
    "    final_df = final_df.append(df)"
   ]
  },
  {
   "cell_type": "markdown",
   "metadata": {},
   "source": [
    "### Rename columns "
   ]
  },
  {
   "cell_type": "code",
   "execution_count": null,
   "metadata": {
    "collapsed": true
   },
   "outputs": [],
   "source": [
    "final_df= final_df.rename(columns = {'Unnamed: 0':'Position','Unnamed: 1':'Song Name','Unnamed: 2':'Artist','Note that these figures are generated using a formula that protects against any artificial inflation of chart positions.':'Streams',\n",
    "                                     'Unnamed: 4':'URL'})\n",
    "final_df = final_df[1:]\n",
    "final_df = final_df[~final_df['Streams'].isin(['Streams'])]\n",
    "final_df\n",
    "\n"
   ]
  },
  {
   "cell_type": "markdown",
   "metadata": {},
   "source": [
    "### Aggregate all the streams since 2017 and group them by song, artist, and Spotify URI"
   ]
  },
  {
   "cell_type": "code",
   "execution_count": null,
   "metadata": {
    "collapsed": true
   },
   "outputs": [],
   "source": [
    "streams = final_df.groupby(['Song Name','Artist','URL']).agg(\n",
    "    {\n",
    "    'Streams':sum\n",
    "    }\n",
    ").sort_values(by='Streams',ascending=False)\n",
    "streams.to_csv('spotify_streams_2017_to_02_26_2021.csv')"
   ]
  },
  {
   "cell_type": "code",
   "execution_count": null,
   "metadata": {
    "collapsed": true
   },
   "outputs": [],
   "source": [
    "### Merge the streams table with the lyrics table on the song name"
   ]
  },
  {
   "cell_type": "code",
   "execution_count": 12,
   "metadata": {
    "collapsed": true
   },
   "outputs": [],
   "source": [
    "final_stream_lyrics_table = streams_final_table.merge(lyrics_df,how='inner',left_on='Song Name',right_on='song')"
   ]
  },
  {
   "cell_type": "code",
   "execution_count": 13,
   "metadata": {},
   "outputs": [
    {
     "data": {
      "text/html": [
       "<div>\n",
       "<style scoped>\n",
       "    .dataframe tbody tr th:only-of-type {\n",
       "        vertical-align: middle;\n",
       "    }\n",
       "\n",
       "    .dataframe tbody tr th {\n",
       "        vertical-align: top;\n",
       "    }\n",
       "\n",
       "    .dataframe thead th {\n",
       "        text-align: right;\n",
       "    }\n",
       "</style>\n",
       "<table border=\"1\" class=\"dataframe\">\n",
       "  <thead>\n",
       "    <tr style=\"text-align: right;\">\n",
       "      <th></th>\n",
       "      <th>index</th>\n",
       "      <th>Song Name</th>\n",
       "      <th>Artist</th>\n",
       "      <th>URL</th>\n",
       "      <th>Streams</th>\n",
       "      <th>Genius artist_id</th>\n",
       "      <th>Genius song_id</th>\n",
       "      <th>Spotify artist_id</th>\n",
       "      <th>Spotify song_id</th>\n",
       "      <th>artist</th>\n",
       "      <th>lyrics</th>\n",
       "      <th>song</th>\n",
       "    </tr>\n",
       "  </thead>\n",
       "  <tbody>\n",
       "    <tr>\n",
       "      <th>0</th>\n",
       "      <td>0</td>\n",
       "      <td>SAD!</td>\n",
       "      <td>XXXTENTACION</td>\n",
       "      <td>https://open.spotify.com/track/3ee8Jmje8o58CHK...</td>\n",
       "      <td>577901267.0</td>\n",
       "      <td>396565</td>\n",
       "      <td>3430186</td>\n",
       "      <td>15UsOTVnJzReFVN1VCnxy4</td>\n",
       "      <td>3ee8Jmje8o58CHK66QrVC2</td>\n",
       "      <td>XXXTENTACION</td>\n",
       "      <td>[Intro]\\nYeah\\n\\n[Chorus]\\nWho am I? Someone t...</td>\n",
       "      <td>SAD!</td>\n",
       "    </tr>\n",
       "    <tr>\n",
       "      <th>1</th>\n",
       "      <td>4</td>\n",
       "      <td>SICKO MODE</td>\n",
       "      <td>Travis Scott</td>\n",
       "      <td>https://open.spotify.com/track/2xLMifQCjDGFmkH...</td>\n",
       "      <td>550670975.0</td>\n",
       "      <td>20185</td>\n",
       "      <td>3876994</td>\n",
       "      <td>0Y5tJX1MQlPlqiwlOH1tJY</td>\n",
       "      <td>2xLMifQCjDGFmkHkpNLD9h</td>\n",
       "      <td>Travis Scott</td>\n",
       "      <td>[Part I]\\n\\n[Intro: Drake]\\nAstro, yeah\\nSun i...</td>\n",
       "      <td>SICKO MODE</td>\n",
       "    </tr>\n",
       "    <tr>\n",
       "      <th>2</th>\n",
       "      <td>5</td>\n",
       "      <td>goosebumps</td>\n",
       "      <td>Travis Scott</td>\n",
       "      <td>https://open.spotify.com/track/6gBFPUFcJLzWGx4...</td>\n",
       "      <td>549870433.0</td>\n",
       "      <td>20185</td>\n",
       "      <td>2849767</td>\n",
       "      <td>0Y5tJX1MQlPlqiwlOH1tJY</td>\n",
       "      <td>6gBFPUFcJLzWGx4lenP6h2</td>\n",
       "      <td>Travis Scott</td>\n",
       "      <td>[Intro: Travis Scott]\\nYeah\\n7:30 in the night...</td>\n",
       "      <td>goosebumps</td>\n",
       "    </tr>\n",
       "    <tr>\n",
       "      <th>3</th>\n",
       "      <td>6</td>\n",
       "      <td>Jocelyn Flores</td>\n",
       "      <td>XXXTENTACION</td>\n",
       "      <td>https://open.spotify.com/track/7m9OqQk4RVRkw9J...</td>\n",
       "      <td>532330080.0</td>\n",
       "      <td>396565</td>\n",
       "      <td>3185661</td>\n",
       "      <td>15UsOTVnJzReFVN1VCnxy4</td>\n",
       "      <td>7m9OqQk4RVRkw9JJdeAw96</td>\n",
       "      <td>XXXTENTACION</td>\n",
       "      <td>[Intro: Shiloh Dynasty]\\nI know you so well, s...</td>\n",
       "      <td>Jocelyn Flores</td>\n",
       "    </tr>\n",
       "    <tr>\n",
       "      <th>4</th>\n",
       "      <td>7</td>\n",
       "      <td>HUMBLE.</td>\n",
       "      <td>Kendrick Lamar</td>\n",
       "      <td>https://open.spotify.com/track/7KXjTSCq5nL1LoY...</td>\n",
       "      <td>527892188.0</td>\n",
       "      <td>1421</td>\n",
       "      <td>3039923</td>\n",
       "      <td>2YZyLoL8N0Wb9xBt1NhZWg</td>\n",
       "      <td>7KXjTSCq5nL1LoYtL7XAwS</td>\n",
       "      <td>Kendrick Lamar</td>\n",
       "      <td>[Intro]\\nNobody pray for me\\nIt been that day ...</td>\n",
       "      <td>HUMBLE.</td>\n",
       "    </tr>\n",
       "    <tr>\n",
       "      <th>...</th>\n",
       "      <td>...</td>\n",
       "      <td>...</td>\n",
       "      <td>...</td>\n",
       "      <td>...</td>\n",
       "      <td>...</td>\n",
       "      <td>...</td>\n",
       "      <td>...</td>\n",
       "      <td>...</td>\n",
       "      <td>...</td>\n",
       "      <td>...</td>\n",
       "      <td>...</td>\n",
       "      <td>...</td>\n",
       "    </tr>\n",
       "    <tr>\n",
       "      <th>2839</th>\n",
       "      <td>5188</td>\n",
       "      <td>Middle</td>\n",
       "      <td>DJ Snake</td>\n",
       "      <td>https://open.spotify.com/track/4OZEu0Vwq0RB2LA...</td>\n",
       "      <td>1037663.0</td>\n",
       "      <td>41287</td>\n",
       "      <td>2331497</td>\n",
       "      <td>540vIaP2JwjQb9dm3aArA4</td>\n",
       "      <td>4OZEu0Vwq0RB2LAq14v99n</td>\n",
       "      <td>DJ Snake</td>\n",
       "      <td>[Verse 1]\\nStarin' at two different views on y...</td>\n",
       "      <td>Middle</td>\n",
       "    </tr>\n",
       "    <tr>\n",
       "      <th>2840</th>\n",
       "      <td>5189</td>\n",
       "      <td>Wake Up Where You Are</td>\n",
       "      <td>State of Sound</td>\n",
       "      <td>https://open.spotify.com/track/2s76aKBWKShlwPC...</td>\n",
       "      <td>1029544.0</td>\n",
       "      <td>1005514</td>\n",
       "      <td>2876087</td>\n",
       "      <td>05o1zW8b6PV6rEquXr74sB</td>\n",
       "      <td>2s76aKBWKShlwPC4xTtEEE</td>\n",
       "      <td>State of Sound</td>\n",
       "      <td>[Verse 1]\\nNever thought that I would love aga...</td>\n",
       "      <td>Wake Up Where You Are</td>\n",
       "    </tr>\n",
       "    <tr>\n",
       "      <th>2841</th>\n",
       "      <td>5190</td>\n",
       "      <td>Nothing Without You</td>\n",
       "      <td>The Weeknd</td>\n",
       "      <td>https://open.spotify.com/track/3Te3gG6MPEDNqLG...</td>\n",
       "      <td>1017468.0</td>\n",
       "      <td>2358</td>\n",
       "      <td>2911563</td>\n",
       "      <td>1Xyo4u8uXC1ZmMpatF05PJ</td>\n",
       "      <td>3Te3gG6MPEDNqLGzWrjKC3</td>\n",
       "      <td>The Weeknd</td>\n",
       "      <td>[Verse 1]\\nI realized, I belong to you\\nI feel...</td>\n",
       "      <td>Nothing Without You</td>\n",
       "    </tr>\n",
       "    <tr>\n",
       "      <th>2842</th>\n",
       "      <td>5191</td>\n",
       "      <td>A Lonely Night</td>\n",
       "      <td>The Weeknd</td>\n",
       "      <td>https://open.spotify.com/track/4UknpXoLjlB7Mao...</td>\n",
       "      <td>994402.0</td>\n",
       "      <td>2358</td>\n",
       "      <td>2917435</td>\n",
       "      <td>1Xyo4u8uXC1ZmMpatF05PJ</td>\n",
       "      <td>4UknpXoLjlB7Mao4UWcJ2o</td>\n",
       "      <td>The Weeknd</td>\n",
       "      <td>[Intro]\\nGassed up, yeah, yeah\\nHey, na-na-na-...</td>\n",
       "      <td>A Lonely Night</td>\n",
       "    </tr>\n",
       "    <tr>\n",
       "      <th>2843</th>\n",
       "      <td>5192</td>\n",
       "      <td>Look Alive</td>\n",
       "      <td>Rae Sremmurd</td>\n",
       "      <td>https://open.spotify.com/track/2IGr3q6ljcpLvHD...</td>\n",
       "      <td>985786.0</td>\n",
       "      <td>177756</td>\n",
       "      <td>2456022</td>\n",
       "      <td>7iZtZyCzp3LItcw1wtPI3D</td>\n",
       "      <td>2IGr3q6ljcpLvHDFLtI0yW</td>\n",
       "      <td>Rae Sremmurd</td>\n",
       "      <td>[Intro: Swae Lee]\\nEarDrummers\\nI'm so far out...</td>\n",
       "      <td>Look Alive</td>\n",
       "    </tr>\n",
       "  </tbody>\n",
       "</table>\n",
       "<p>2844 rows × 12 columns</p>\n",
       "</div>"
      ],
      "text/plain": [
       "      index              Song Name          Artist  \\\n",
       "0         0                   SAD!    XXXTENTACION   \n",
       "1         4             SICKO MODE    Travis Scott   \n",
       "2         5             goosebumps    Travis Scott   \n",
       "3         6         Jocelyn Flores    XXXTENTACION   \n",
       "4         7                HUMBLE.  Kendrick Lamar   \n",
       "...     ...                    ...             ...   \n",
       "2839   5188                 Middle        DJ Snake   \n",
       "2840   5189  Wake Up Where You Are  State of Sound   \n",
       "2841   5190    Nothing Without You      The Weeknd   \n",
       "2842   5191         A Lonely Night      The Weeknd   \n",
       "2843   5192             Look Alive    Rae Sremmurd   \n",
       "\n",
       "                                                    URL      Streams  \\\n",
       "0     https://open.spotify.com/track/3ee8Jmje8o58CHK...  577901267.0   \n",
       "1     https://open.spotify.com/track/2xLMifQCjDGFmkH...  550670975.0   \n",
       "2     https://open.spotify.com/track/6gBFPUFcJLzWGx4...  549870433.0   \n",
       "3     https://open.spotify.com/track/7m9OqQk4RVRkw9J...  532330080.0   \n",
       "4     https://open.spotify.com/track/7KXjTSCq5nL1LoY...  527892188.0   \n",
       "...                                                 ...          ...   \n",
       "2839  https://open.spotify.com/track/4OZEu0Vwq0RB2LA...    1037663.0   \n",
       "2840  https://open.spotify.com/track/2s76aKBWKShlwPC...    1029544.0   \n",
       "2841  https://open.spotify.com/track/3Te3gG6MPEDNqLG...    1017468.0   \n",
       "2842  https://open.spotify.com/track/4UknpXoLjlB7Mao...     994402.0   \n",
       "2843  https://open.spotify.com/track/2IGr3q6ljcpLvHD...     985786.0   \n",
       "\n",
       "     Genius artist_id Genius song_id       Spotify artist_id  \\\n",
       "0              396565        3430186  15UsOTVnJzReFVN1VCnxy4   \n",
       "1               20185        3876994  0Y5tJX1MQlPlqiwlOH1tJY   \n",
       "2               20185        2849767  0Y5tJX1MQlPlqiwlOH1tJY   \n",
       "3              396565        3185661  15UsOTVnJzReFVN1VCnxy4   \n",
       "4                1421        3039923  2YZyLoL8N0Wb9xBt1NhZWg   \n",
       "...               ...            ...                     ...   \n",
       "2839            41287        2331497  540vIaP2JwjQb9dm3aArA4   \n",
       "2840          1005514        2876087  05o1zW8b6PV6rEquXr74sB   \n",
       "2841             2358        2911563  1Xyo4u8uXC1ZmMpatF05PJ   \n",
       "2842             2358        2917435  1Xyo4u8uXC1ZmMpatF05PJ   \n",
       "2843           177756        2456022  7iZtZyCzp3LItcw1wtPI3D   \n",
       "\n",
       "             Spotify song_id          artist  \\\n",
       "0     3ee8Jmje8o58CHK66QrVC2    XXXTENTACION   \n",
       "1     2xLMifQCjDGFmkHkpNLD9h    Travis Scott   \n",
       "2     6gBFPUFcJLzWGx4lenP6h2    Travis Scott   \n",
       "3     7m9OqQk4RVRkw9JJdeAw96    XXXTENTACION   \n",
       "4     7KXjTSCq5nL1LoYtL7XAwS  Kendrick Lamar   \n",
       "...                      ...             ...   \n",
       "2839  4OZEu0Vwq0RB2LAq14v99n        DJ Snake   \n",
       "2840  2s76aKBWKShlwPC4xTtEEE  State of Sound   \n",
       "2841  3Te3gG6MPEDNqLGzWrjKC3      The Weeknd   \n",
       "2842  4UknpXoLjlB7Mao4UWcJ2o      The Weeknd   \n",
       "2843  2IGr3q6ljcpLvHDFLtI0yW    Rae Sremmurd   \n",
       "\n",
       "                                                 lyrics                   song  \n",
       "0     [Intro]\\nYeah\\n\\n[Chorus]\\nWho am I? Someone t...                   SAD!  \n",
       "1     [Part I]\\n\\n[Intro: Drake]\\nAstro, yeah\\nSun i...             SICKO MODE  \n",
       "2     [Intro: Travis Scott]\\nYeah\\n7:30 in the night...             goosebumps  \n",
       "3     [Intro: Shiloh Dynasty]\\nI know you so well, s...         Jocelyn Flores  \n",
       "4     [Intro]\\nNobody pray for me\\nIt been that day ...                HUMBLE.  \n",
       "...                                                 ...                    ...  \n",
       "2839  [Verse 1]\\nStarin' at two different views on y...                 Middle  \n",
       "2840  [Verse 1]\\nNever thought that I would love aga...  Wake Up Where You Are  \n",
       "2841  [Verse 1]\\nI realized, I belong to you\\nI feel...    Nothing Without You  \n",
       "2842  [Intro]\\nGassed up, yeah, yeah\\nHey, na-na-na-...         A Lonely Night  \n",
       "2843  [Intro: Swae Lee]\\nEarDrummers\\nI'm so far out...             Look Alive  \n",
       "\n",
       "[2844 rows x 12 columns]"
      ]
     },
     "execution_count": 13,
     "metadata": {},
     "output_type": "execute_result"
    }
   ],
   "source": [
    "final_stream_table = final_stream_lyrics_table.drop_duplicates(subset=['Song Name']).reset_index()\n",
    "final_stream_table"
   ]
  },
  {
   "cell_type": "code",
   "execution_count": null,
   "metadata": {
    "collapsed": true
   },
   "outputs": [],
   "source": [
    "## Rename all of the columns accordingly"
   ]
  },
  {
   "cell_type": "code",
   "execution_count": 32,
   "metadata": {},
   "outputs": [
    {
     "data": {
      "text/html": [
       "<div>\n",
       "<style scoped>\n",
       "    .dataframe tbody tr th:only-of-type {\n",
       "        vertical-align: middle;\n",
       "    }\n",
       "\n",
       "    .dataframe tbody tr th {\n",
       "        vertical-align: top;\n",
       "    }\n",
       "\n",
       "    .dataframe thead th {\n",
       "        text-align: right;\n",
       "    }\n",
       "</style>\n",
       "<table border=\"1\" class=\"dataframe\">\n",
       "  <thead>\n",
       "    <tr style=\"text-align: right;\">\n",
       "      <th></th>\n",
       "      <th>Song Name</th>\n",
       "      <th>Artist</th>\n",
       "      <th>URL</th>\n",
       "      <th>Streams</th>\n",
       "      <th>Genius artist_id</th>\n",
       "      <th>Genius song_id</th>\n",
       "      <th>Spotify artist_id</th>\n",
       "      <th>Spotify song_id</th>\n",
       "      <th>artist</th>\n",
       "      <th>lyrics</th>\n",
       "      <th>song</th>\n",
       "    </tr>\n",
       "  </thead>\n",
       "  <tbody>\n",
       "    <tr>\n",
       "      <th>0</th>\n",
       "      <td>SAD!</td>\n",
       "      <td>XXXTENTACION</td>\n",
       "      <td>https://open.spotify.com/track/3ee8Jmje8o58CHK...</td>\n",
       "      <td>577901267.0</td>\n",
       "      <td>396565</td>\n",
       "      <td>3430186</td>\n",
       "      <td>15UsOTVnJzReFVN1VCnxy4</td>\n",
       "      <td>3ee8Jmje8o58CHK66QrVC2</td>\n",
       "      <td>XXXTENTACION</td>\n",
       "      <td>[Intro]\\nYeah\\n\\n[Chorus]\\nWho am I? Someone t...</td>\n",
       "      <td>SAD!</td>\n",
       "    </tr>\n",
       "    <tr>\n",
       "      <th>1</th>\n",
       "      <td>SICKO MODE</td>\n",
       "      <td>Travis Scott</td>\n",
       "      <td>https://open.spotify.com/track/2xLMifQCjDGFmkH...</td>\n",
       "      <td>550670975.0</td>\n",
       "      <td>20185</td>\n",
       "      <td>3876994</td>\n",
       "      <td>0Y5tJX1MQlPlqiwlOH1tJY</td>\n",
       "      <td>2xLMifQCjDGFmkHkpNLD9h</td>\n",
       "      <td>Travis Scott</td>\n",
       "      <td>[Part I]\\n\\n[Intro: Drake]\\nAstro, yeah\\nSun i...</td>\n",
       "      <td>SICKO MODE</td>\n",
       "    </tr>\n",
       "    <tr>\n",
       "      <th>2</th>\n",
       "      <td>goosebumps</td>\n",
       "      <td>Travis Scott</td>\n",
       "      <td>https://open.spotify.com/track/6gBFPUFcJLzWGx4...</td>\n",
       "      <td>549870433.0</td>\n",
       "      <td>20185</td>\n",
       "      <td>2849767</td>\n",
       "      <td>0Y5tJX1MQlPlqiwlOH1tJY</td>\n",
       "      <td>6gBFPUFcJLzWGx4lenP6h2</td>\n",
       "      <td>Travis Scott</td>\n",
       "      <td>[Intro: Travis Scott]\\nYeah\\n7:30 in the night...</td>\n",
       "      <td>goosebumps</td>\n",
       "    </tr>\n",
       "    <tr>\n",
       "      <th>3</th>\n",
       "      <td>Jocelyn Flores</td>\n",
       "      <td>XXXTENTACION</td>\n",
       "      <td>https://open.spotify.com/track/7m9OqQk4RVRkw9J...</td>\n",
       "      <td>532330080.0</td>\n",
       "      <td>396565</td>\n",
       "      <td>3185661</td>\n",
       "      <td>15UsOTVnJzReFVN1VCnxy4</td>\n",
       "      <td>7m9OqQk4RVRkw9JJdeAw96</td>\n",
       "      <td>XXXTENTACION</td>\n",
       "      <td>[Intro: Shiloh Dynasty]\\nI know you so well, s...</td>\n",
       "      <td>Jocelyn Flores</td>\n",
       "    </tr>\n",
       "    <tr>\n",
       "      <th>4</th>\n",
       "      <td>HUMBLE.</td>\n",
       "      <td>Kendrick Lamar</td>\n",
       "      <td>https://open.spotify.com/track/7KXjTSCq5nL1LoY...</td>\n",
       "      <td>527892188.0</td>\n",
       "      <td>1421</td>\n",
       "      <td>3039923</td>\n",
       "      <td>2YZyLoL8N0Wb9xBt1NhZWg</td>\n",
       "      <td>7KXjTSCq5nL1LoYtL7XAwS</td>\n",
       "      <td>Kendrick Lamar</td>\n",
       "      <td>[Intro]\\nNobody pray for me\\nIt been that day ...</td>\n",
       "      <td>HUMBLE.</td>\n",
       "    </tr>\n",
       "    <tr>\n",
       "      <th>...</th>\n",
       "      <td>...</td>\n",
       "      <td>...</td>\n",
       "      <td>...</td>\n",
       "      <td>...</td>\n",
       "      <td>...</td>\n",
       "      <td>...</td>\n",
       "      <td>...</td>\n",
       "      <td>...</td>\n",
       "      <td>...</td>\n",
       "      <td>...</td>\n",
       "      <td>...</td>\n",
       "    </tr>\n",
       "    <tr>\n",
       "      <th>2839</th>\n",
       "      <td>Middle</td>\n",
       "      <td>DJ Snake</td>\n",
       "      <td>https://open.spotify.com/track/4OZEu0Vwq0RB2LA...</td>\n",
       "      <td>1037663.0</td>\n",
       "      <td>41287</td>\n",
       "      <td>2331497</td>\n",
       "      <td>540vIaP2JwjQb9dm3aArA4</td>\n",
       "      <td>4OZEu0Vwq0RB2LAq14v99n</td>\n",
       "      <td>DJ Snake</td>\n",
       "      <td>[Verse 1]\\nStarin' at two different views on y...</td>\n",
       "      <td>Middle</td>\n",
       "    </tr>\n",
       "    <tr>\n",
       "      <th>2840</th>\n",
       "      <td>Wake Up Where You Are</td>\n",
       "      <td>State of Sound</td>\n",
       "      <td>https://open.spotify.com/track/2s76aKBWKShlwPC...</td>\n",
       "      <td>1029544.0</td>\n",
       "      <td>1005514</td>\n",
       "      <td>2876087</td>\n",
       "      <td>05o1zW8b6PV6rEquXr74sB</td>\n",
       "      <td>2s76aKBWKShlwPC4xTtEEE</td>\n",
       "      <td>State of Sound</td>\n",
       "      <td>[Verse 1]\\nNever thought that I would love aga...</td>\n",
       "      <td>Wake Up Where You Are</td>\n",
       "    </tr>\n",
       "    <tr>\n",
       "      <th>2841</th>\n",
       "      <td>Nothing Without You</td>\n",
       "      <td>The Weeknd</td>\n",
       "      <td>https://open.spotify.com/track/3Te3gG6MPEDNqLG...</td>\n",
       "      <td>1017468.0</td>\n",
       "      <td>2358</td>\n",
       "      <td>2911563</td>\n",
       "      <td>1Xyo4u8uXC1ZmMpatF05PJ</td>\n",
       "      <td>3Te3gG6MPEDNqLGzWrjKC3</td>\n",
       "      <td>The Weeknd</td>\n",
       "      <td>[Verse 1]\\nI realized, I belong to you\\nI feel...</td>\n",
       "      <td>Nothing Without You</td>\n",
       "    </tr>\n",
       "    <tr>\n",
       "      <th>2842</th>\n",
       "      <td>A Lonely Night</td>\n",
       "      <td>The Weeknd</td>\n",
       "      <td>https://open.spotify.com/track/4UknpXoLjlB7Mao...</td>\n",
       "      <td>994402.0</td>\n",
       "      <td>2358</td>\n",
       "      <td>2917435</td>\n",
       "      <td>1Xyo4u8uXC1ZmMpatF05PJ</td>\n",
       "      <td>4UknpXoLjlB7Mao4UWcJ2o</td>\n",
       "      <td>The Weeknd</td>\n",
       "      <td>[Intro]\\nGassed up, yeah, yeah\\nHey, na-na-na-...</td>\n",
       "      <td>A Lonely Night</td>\n",
       "    </tr>\n",
       "    <tr>\n",
       "      <th>2843</th>\n",
       "      <td>Look Alive</td>\n",
       "      <td>Rae Sremmurd</td>\n",
       "      <td>https://open.spotify.com/track/2IGr3q6ljcpLvHD...</td>\n",
       "      <td>985786.0</td>\n",
       "      <td>177756</td>\n",
       "      <td>2456022</td>\n",
       "      <td>7iZtZyCzp3LItcw1wtPI3D</td>\n",
       "      <td>2IGr3q6ljcpLvHDFLtI0yW</td>\n",
       "      <td>Rae Sremmurd</td>\n",
       "      <td>[Intro: Swae Lee]\\nEarDrummers\\nI'm so far out...</td>\n",
       "      <td>Look Alive</td>\n",
       "    </tr>\n",
       "  </tbody>\n",
       "</table>\n",
       "<p>2844 rows × 11 columns</p>\n",
       "</div>"
      ],
      "text/plain": [
       "                  Song Name          Artist  \\\n",
       "0                      SAD!    XXXTENTACION   \n",
       "1                SICKO MODE    Travis Scott   \n",
       "2                goosebumps    Travis Scott   \n",
       "3            Jocelyn Flores    XXXTENTACION   \n",
       "4                   HUMBLE.  Kendrick Lamar   \n",
       "...                     ...             ...   \n",
       "2839                 Middle        DJ Snake   \n",
       "2840  Wake Up Where You Are  State of Sound   \n",
       "2841    Nothing Without You      The Weeknd   \n",
       "2842         A Lonely Night      The Weeknd   \n",
       "2843             Look Alive    Rae Sremmurd   \n",
       "\n",
       "                                                    URL      Streams  \\\n",
       "0     https://open.spotify.com/track/3ee8Jmje8o58CHK...  577901267.0   \n",
       "1     https://open.spotify.com/track/2xLMifQCjDGFmkH...  550670975.0   \n",
       "2     https://open.spotify.com/track/6gBFPUFcJLzWGx4...  549870433.0   \n",
       "3     https://open.spotify.com/track/7m9OqQk4RVRkw9J...  532330080.0   \n",
       "4     https://open.spotify.com/track/7KXjTSCq5nL1LoY...  527892188.0   \n",
       "...                                                 ...          ...   \n",
       "2839  https://open.spotify.com/track/4OZEu0Vwq0RB2LA...    1037663.0   \n",
       "2840  https://open.spotify.com/track/2s76aKBWKShlwPC...    1029544.0   \n",
       "2841  https://open.spotify.com/track/3Te3gG6MPEDNqLG...    1017468.0   \n",
       "2842  https://open.spotify.com/track/4UknpXoLjlB7Mao...     994402.0   \n",
       "2843  https://open.spotify.com/track/2IGr3q6ljcpLvHD...     985786.0   \n",
       "\n",
       "     Genius artist_id Genius song_id       Spotify artist_id  \\\n",
       "0              396565        3430186  15UsOTVnJzReFVN1VCnxy4   \n",
       "1               20185        3876994  0Y5tJX1MQlPlqiwlOH1tJY   \n",
       "2               20185        2849767  0Y5tJX1MQlPlqiwlOH1tJY   \n",
       "3              396565        3185661  15UsOTVnJzReFVN1VCnxy4   \n",
       "4                1421        3039923  2YZyLoL8N0Wb9xBt1NhZWg   \n",
       "...               ...            ...                     ...   \n",
       "2839            41287        2331497  540vIaP2JwjQb9dm3aArA4   \n",
       "2840          1005514        2876087  05o1zW8b6PV6rEquXr74sB   \n",
       "2841             2358        2911563  1Xyo4u8uXC1ZmMpatF05PJ   \n",
       "2842             2358        2917435  1Xyo4u8uXC1ZmMpatF05PJ   \n",
       "2843           177756        2456022  7iZtZyCzp3LItcw1wtPI3D   \n",
       "\n",
       "             Spotify song_id          artist  \\\n",
       "0     3ee8Jmje8o58CHK66QrVC2    XXXTENTACION   \n",
       "1     2xLMifQCjDGFmkHkpNLD9h    Travis Scott   \n",
       "2     6gBFPUFcJLzWGx4lenP6h2    Travis Scott   \n",
       "3     7m9OqQk4RVRkw9JJdeAw96    XXXTENTACION   \n",
       "4     7KXjTSCq5nL1LoYtL7XAwS  Kendrick Lamar   \n",
       "...                      ...             ...   \n",
       "2839  4OZEu0Vwq0RB2LAq14v99n        DJ Snake   \n",
       "2840  2s76aKBWKShlwPC4xTtEEE  State of Sound   \n",
       "2841  3Te3gG6MPEDNqLGzWrjKC3      The Weeknd   \n",
       "2842  4UknpXoLjlB7Mao4UWcJ2o      The Weeknd   \n",
       "2843  2IGr3q6ljcpLvHDFLtI0yW    Rae Sremmurd   \n",
       "\n",
       "                                                 lyrics                   song  \n",
       "0     [Intro]\\nYeah\\n\\n[Chorus]\\nWho am I? Someone t...                   SAD!  \n",
       "1     [Part I]\\n\\n[Intro: Drake]\\nAstro, yeah\\nSun i...             SICKO MODE  \n",
       "2     [Intro: Travis Scott]\\nYeah\\n7:30 in the night...             goosebumps  \n",
       "3     [Intro: Shiloh Dynasty]\\nI know you so well, s...         Jocelyn Flores  \n",
       "4     [Intro]\\nNobody pray for me\\nIt been that day ...                HUMBLE.  \n",
       "...                                                 ...                    ...  \n",
       "2839  [Verse 1]\\nStarin' at two different views on y...                 Middle  \n",
       "2840  [Verse 1]\\nNever thought that I would love aga...  Wake Up Where You Are  \n",
       "2841  [Verse 1]\\nI realized, I belong to you\\nI feel...    Nothing Without You  \n",
       "2842  [Intro]\\nGassed up, yeah, yeah\\nHey, na-na-na-...         A Lonely Night  \n",
       "2843  [Intro: Swae Lee]\\nEarDrummers\\nI'm so far out...             Look Alive  \n",
       "\n",
       "[2844 rows x 11 columns]"
      ]
     },
     "execution_count": 32,
     "metadata": {},
     "output_type": "execute_result"
    }
   ],
   "source": [
    "final_stream_table = final_stream_table[['Song Name','Artist','URL','Streams','Genius artist_id','Genius song_id',\n",
    "                                        'Spotify artist_id','Spotify song_id','artist','lyrics','song']]\n",
    "final_stream_table"
   ]
  },
  {
   "cell_type": "code",
   "execution_count": null,
   "metadata": {
    "collapsed": true
   },
   "outputs": [],
   "source": [
    "### Count which are the most common brands overall under the LVMH umbrella"
   ]
  },
  {
   "cell_type": "code",
   "execution_count": 30,
   "metadata": {},
   "outputs": [
    {
     "data": {
      "text/html": [
       "<div>\n",
       "<style scoped>\n",
       "    .dataframe tbody tr th:only-of-type {\n",
       "        vertical-align: middle;\n",
       "    }\n",
       "\n",
       "    .dataframe tbody tr th {\n",
       "        vertical-align: top;\n",
       "    }\n",
       "\n",
       "    .dataframe thead th {\n",
       "        text-align: right;\n",
       "    }\n",
       "</style>\n",
       "<table border=\"1\" class=\"dataframe\">\n",
       "  <thead>\n",
       "    <tr style=\"text-align: right;\">\n",
       "      <th></th>\n",
       "      <th>counts</th>\n",
       "    </tr>\n",
       "  </thead>\n",
       "  <tbody>\n",
       "    <tr>\n",
       "      <th>louis</th>\n",
       "      <td>164</td>\n",
       "    </tr>\n",
       "    <tr>\n",
       "      <th>dior</th>\n",
       "      <td>73</td>\n",
       "    </tr>\n",
       "    <tr>\n",
       "      <th>christian</th>\n",
       "      <td>59</td>\n",
       "    </tr>\n",
       "    <tr>\n",
       "      <th>henny</th>\n",
       "      <td>51</td>\n",
       "    </tr>\n",
       "    <tr>\n",
       "      <th>fendi</th>\n",
       "      <td>49</td>\n",
       "    </tr>\n",
       "    <tr>\n",
       "      <th>dom</th>\n",
       "      <td>48</td>\n",
       "    </tr>\n",
       "    <tr>\n",
       "      <th>hennessy</th>\n",
       "      <td>37</td>\n",
       "    </tr>\n",
       "    <tr>\n",
       "      <th>birkin</th>\n",
       "      <td>35</td>\n",
       "    </tr>\n",
       "    <tr>\n",
       "      <th>givenchy</th>\n",
       "      <td>27</td>\n",
       "    </tr>\n",
       "    <tr>\n",
       "      <th>jacob</th>\n",
       "      <td>27</td>\n",
       "    </tr>\n",
       "    <tr>\n",
       "      <th>tiffany</th>\n",
       "      <td>22</td>\n",
       "    </tr>\n",
       "    <tr>\n",
       "      <th>marc</th>\n",
       "      <td>22</td>\n",
       "    </tr>\n",
       "    <tr>\n",
       "      <th>vuitton</th>\n",
       "      <td>19</td>\n",
       "    </tr>\n",
       "    <tr>\n",
       "      <th>hermes</th>\n",
       "      <td>9</td>\n",
       "    </tr>\n",
       "    <tr>\n",
       "      <th>hublot</th>\n",
       "      <td>7</td>\n",
       "    </tr>\n",
       "    <tr>\n",
       "      <th>lv</th>\n",
       "      <td>5</td>\n",
       "    </tr>\n",
       "    <tr>\n",
       "      <th>perignon</th>\n",
       "      <td>3</td>\n",
       "    </tr>\n",
       "    <tr>\n",
       "      <th>fenty</th>\n",
       "      <td>2</td>\n",
       "    </tr>\n",
       "    <tr>\n",
       "      <th>moet</th>\n",
       "      <td>2</td>\n",
       "    </tr>\n",
       "    <tr>\n",
       "      <th>bulgari</th>\n",
       "      <td>2</td>\n",
       "    </tr>\n",
       "  </tbody>\n",
       "</table>\n",
       "</div>"
      ],
      "text/plain": [
       "           counts\n",
       "louis         164\n",
       "dior           73\n",
       "christian      59\n",
       "henny          51\n",
       "fendi          49\n",
       "dom            48\n",
       "hennessy       37\n",
       "birkin         35\n",
       "givenchy       27\n",
       "jacob          27\n",
       "tiffany        22\n",
       "marc           22\n",
       "vuitton        19\n",
       "hermes          9\n",
       "hublot          7\n",
       "lv              5\n",
       "perignon        3\n",
       "fenty           2\n",
       "moet            2\n",
       "bulgari         2"
      ]
     },
     "execution_count": 30,
     "metadata": {},
     "output_type": "execute_result"
    }
   ],
   "source": [
    "streams_lvmh_counter = lyric_counter(final_stream_table,lvmh)\n",
    "stream_counts = pd.DataFrame.from_dict(streams_lvmh_counter,orient='index').rename(columns ={0:'counts'})\n",
    "stream_counts.sort_values(by='counts',ascending=False)"
   ]
  },
  {
   "cell_type": "code",
   "execution_count": null,
   "metadata": {
    "collapsed": true
   },
   "outputs": [],
   "source": [
    "### Count brands for each song, taking into account their total streams"
   ]
  },
  {
   "cell_type": "code",
   "execution_count": 6,
   "metadata": {},
   "outputs": [],
   "source": [
    "final_stream_df = pd.DataFrame()\n",
    "for i in range(len(final_stream_table['lyrics'])):\n",
    "    for brand in lvmh_new:\n",
    "        \n",
    "        song = final_stream_table['Song Name'][i]\n",
    "        artist = final_stream_table['artist'][i]\n",
    "        lyric = final_stream_table['lyrics'][i]\n",
    "        streams = final_stream_table['Streams'][i]\n",
    "        \n",
    "        lyric_list = lyric.lower().translate(tbl).split()\n",
    "        x = lyric_list.count(brand)\n",
    "        \n",
    "        if x > 0:\n",
    "            final_stream_df = final_stream_df.append(\n",
    "                {'Song':song,\n",
    "                 'Artist':artist,\n",
    "                 'Brand':brand,\n",
    "                 'Brand Count':x,\n",
    "                 'Streams':streams,\n",
    "                },\n",
    "                ignore_index=True\n",
    "            )\n",
    "            print(f'{song} by {artist} has the brand {brand} {x} times.')"
   ]
  },
  {
   "cell_type": "markdown",
   "metadata": {},
   "source": [
    "### Final dataframe with artist, brand, song, streams, and brand count"
   ]
  },
  {
   "cell_type": "code",
   "execution_count": 38,
   "metadata": {},
   "outputs": [
    {
     "data": {
      "text/html": [
       "<div>\n",
       "<style scoped>\n",
       "    .dataframe tbody tr th:only-of-type {\n",
       "        vertical-align: middle;\n",
       "    }\n",
       "\n",
       "    .dataframe tbody tr th {\n",
       "        vertical-align: top;\n",
       "    }\n",
       "\n",
       "    .dataframe thead th {\n",
       "        text-align: right;\n",
       "    }\n",
       "</style>\n",
       "<table border=\"1\" class=\"dataframe\">\n",
       "  <thead>\n",
       "    <tr style=\"text-align: right;\">\n",
       "      <th></th>\n",
       "      <th>Artist</th>\n",
       "      <th>Brand</th>\n",
       "      <th>Brand Count</th>\n",
       "      <th>Song</th>\n",
       "      <th>Streams</th>\n",
       "    </tr>\n",
       "  </thead>\n",
       "  <tbody>\n",
       "    <tr>\n",
       "      <th>0</th>\n",
       "      <td>Travis Scott</td>\n",
       "      <td>louis</td>\n",
       "      <td>1.0</td>\n",
       "      <td>SICKO MODE</td>\n",
       "      <td>550670975.0</td>\n",
       "    </tr>\n",
       "    <tr>\n",
       "      <th>1</th>\n",
       "      <td>Post Malone</td>\n",
       "      <td>henny</td>\n",
       "      <td>1.0</td>\n",
       "      <td>Better Now</td>\n",
       "      <td>466141747.0</td>\n",
       "    </tr>\n",
       "    <tr>\n",
       "      <th>2</th>\n",
       "      <td>Juice WRLD</td>\n",
       "      <td>hennessy</td>\n",
       "      <td>1.0</td>\n",
       "      <td>Robbery</td>\n",
       "      <td>330679687.0</td>\n",
       "    </tr>\n",
       "    <tr>\n",
       "      <th>3</th>\n",
       "      <td>Ariana Grande</td>\n",
       "      <td>tiffany</td>\n",
       "      <td>1.0</td>\n",
       "      <td>7 rings</td>\n",
       "      <td>270151652.0</td>\n",
       "    </tr>\n",
       "    <tr>\n",
       "      <th>4</th>\n",
       "      <td>Lizzo</td>\n",
       "      <td>dom</td>\n",
       "      <td>3.0</td>\n",
       "      <td>Truth Hurts</td>\n",
       "      <td>246878029.0</td>\n",
       "    </tr>\n",
       "    <tr>\n",
       "      <th>...</th>\n",
       "      <td>...</td>\n",
       "      <td>...</td>\n",
       "      <td>...</td>\n",
       "      <td>...</td>\n",
       "      <td>...</td>\n",
       "    </tr>\n",
       "    <tr>\n",
       "      <th>370</th>\n",
       "      <td>2 Chainz</td>\n",
       "      <td>birkin</td>\n",
       "      <td>1.0</td>\n",
       "      <td>Blue Cheese</td>\n",
       "      <td>1383082.0</td>\n",
       "    </tr>\n",
       "    <tr>\n",
       "      <th>371</th>\n",
       "      <td>Lil Yachty</td>\n",
       "      <td>henny</td>\n",
       "      <td>2.0</td>\n",
       "      <td>X Men</td>\n",
       "      <td>1321079.0</td>\n",
       "    </tr>\n",
       "    <tr>\n",
       "      <th>372</th>\n",
       "      <td>Drake</td>\n",
       "      <td>givenchy</td>\n",
       "      <td>1.0</td>\n",
       "      <td>All Me</td>\n",
       "      <td>1262995.0</td>\n",
       "    </tr>\n",
       "    <tr>\n",
       "      <th>373</th>\n",
       "      <td>21 Savage</td>\n",
       "      <td>birkin</td>\n",
       "      <td>1.0</td>\n",
       "      <td>Special</td>\n",
       "      <td>1181094.0</td>\n",
       "    </tr>\n",
       "    <tr>\n",
       "      <th>374</th>\n",
       "      <td>Tory Lanez</td>\n",
       "      <td>henny</td>\n",
       "      <td>2.0</td>\n",
       "      <td>LUV</td>\n",
       "      <td>1055938.0</td>\n",
       "    </tr>\n",
       "  </tbody>\n",
       "</table>\n",
       "<p>375 rows × 5 columns</p>\n",
       "</div>"
      ],
      "text/plain": [
       "            Artist     Brand  Brand Count         Song      Streams\n",
       "0     Travis Scott     louis          1.0   SICKO MODE  550670975.0\n",
       "1      Post Malone     henny          1.0   Better Now  466141747.0\n",
       "2       Juice WRLD  hennessy          1.0      Robbery  330679687.0\n",
       "3    Ariana Grande   tiffany          1.0      7 rings  270151652.0\n",
       "4            Lizzo       dom          3.0  Truth Hurts  246878029.0\n",
       "..             ...       ...          ...          ...          ...\n",
       "370       2 Chainz    birkin          1.0  Blue Cheese    1383082.0\n",
       "371     Lil Yachty     henny          2.0        X Men    1321079.0\n",
       "372          Drake  givenchy          1.0       All Me    1262995.0\n",
       "373      21 Savage    birkin          1.0      Special    1181094.0\n",
       "374     Tory Lanez     henny          2.0          LUV    1055938.0\n",
       "\n",
       "[375 rows x 5 columns]"
      ]
     },
     "execution_count": 38,
     "metadata": {},
     "output_type": "execute_result"
    }
   ],
   "source": [
    "final_stream_df"
   ]
  },
  {
   "cell_type": "markdown",
   "metadata": {},
   "source": [
    "### Export final Pandas Dataframe to .csv"
   ]
  },
  {
   "cell_type": "code",
   "execution_count": 58,
   "metadata": {
    "collapsed": true
   },
   "outputs": [],
   "source": [
    "final_stream_df.to_csv('streams_lvmh_brands.csv')"
   ]
  },
  {
   "cell_type": "code",
   "execution_count": null,
   "metadata": {
    "collapsed": true
   },
   "outputs": [],
   "source": []
  }
 ],
 "metadata": {
  "kernelspec": {
   "display_name": "Python 3",
   "language": "python",
   "name": "python3"
  },
  "language_info": {
   "codemirror_mode": {
    "name": "ipython",
    "version": 3
   },
   "file_extension": ".py",
   "mimetype": "text/x-python",
   "name": "python",
   "nbconvert_exporter": "python",
   "pygments_lexer": "ipython3",
   "version": "3.6.3"
  }
 },
 "nbformat": 4,
 "nbformat_minor": 4
}
