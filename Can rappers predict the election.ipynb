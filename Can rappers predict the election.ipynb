{
  "cells": [
    {
      "metadata": {
        "trusted": true
      },
      "cell_type": "code",
      "source": "#import Python packages\nimport pandas as pd\nimport numpy as np\nimport matplotlib.pyplot as plt\nfrom matplotlib import pyplot",
      "execution_count": 9,
      "outputs": []
    },
    {
      "metadata": {
        "trusted": true
      },
      "cell_type": "code",
      "source": "#read rap lyrics CSV from FiveThirtyEight dataset\nlyrics = pd.read_csv('rap_lyrics.csv',delimiter=',',encoding = 'latin1')\nlyrics.set_index('id', inplace=True)\nlyrics.head(5)",
      "execution_count": 2,
      "outputs": [
        {
          "output_type": "execute_result",
          "execution_count": 2,
          "data": {
            "text/plain": "        candidate             song       artist sentiment      theme  \\\nid                                                                     \n1   Mike Huckabee  None Shall Pass   Aesop Rock   neutral        NaN   \n2   Mike Huckabee        Wellstone    Soul Khan  negative        NaN   \n3        Jeb Bush              Awe   Dez & Nobs   neutral        NaN   \n4        Jeb Bush        The Truth     Diabolic  negative  political   \n5        Jeb Bush        Money Man  Gorilla Zoe  negative   personal   \n\n    album_release_date                                               line  \nid                                                                         \n1                 2011  Wither by the watering hole, Border patrol / W...  \n2                 2012  Might find the door but never touch the key / ...  \n3                 2006         I heard Jeb Bush looking for a (inaudible)  \n4                 2006  What you heard before ain't as big of a lesson...  \n5                 2007  I'm comin back from Florida / Wit Jeb Bush and...  ",
            "text/html": "<div>\n<table border=\"1\" class=\"dataframe\">\n  <thead>\n    <tr style=\"text-align: right;\">\n      <th></th>\n      <th>candidate</th>\n      <th>song</th>\n      <th>artist</th>\n      <th>sentiment</th>\n      <th>theme</th>\n      <th>album_release_date</th>\n      <th>line</th>\n    </tr>\n    <tr>\n      <th>id</th>\n      <th></th>\n      <th></th>\n      <th></th>\n      <th></th>\n      <th></th>\n      <th></th>\n      <th></th>\n    </tr>\n  </thead>\n  <tbody>\n    <tr>\n      <th>1</th>\n      <td>Mike Huckabee</td>\n      <td>None Shall Pass</td>\n      <td>Aesop Rock</td>\n      <td>neutral</td>\n      <td>NaN</td>\n      <td>2011</td>\n      <td>Wither by the watering hole, Border patrol / W...</td>\n    </tr>\n    <tr>\n      <th>2</th>\n      <td>Mike Huckabee</td>\n      <td>Wellstone</td>\n      <td>Soul Khan</td>\n      <td>negative</td>\n      <td>NaN</td>\n      <td>2012</td>\n      <td>Might find the door but never touch the key / ...</td>\n    </tr>\n    <tr>\n      <th>3</th>\n      <td>Jeb Bush</td>\n      <td>Awe</td>\n      <td>Dez &amp; Nobs</td>\n      <td>neutral</td>\n      <td>NaN</td>\n      <td>2006</td>\n      <td>I heard Jeb Bush looking for a (inaudible)</td>\n    </tr>\n    <tr>\n      <th>4</th>\n      <td>Jeb Bush</td>\n      <td>The Truth</td>\n      <td>Diabolic</td>\n      <td>negative</td>\n      <td>political</td>\n      <td>2006</td>\n      <td>What you heard before ain't as big of a lesson...</td>\n    </tr>\n    <tr>\n      <th>5</th>\n      <td>Jeb Bush</td>\n      <td>Money Man</td>\n      <td>Gorilla Zoe</td>\n      <td>negative</td>\n      <td>personal</td>\n      <td>2007</td>\n      <td>I'm comin back from Florida / Wit Jeb Bush and...</td>\n    </tr>\n  </tbody>\n</table>\n</div>"
          },
          "metadata": {}
        }
      ]
    },
    {
      "metadata": {
        "trusted": true
      },
      "cell_type": "code",
      "source": "lyrics.sort_values(by=['album_release_date']).head(5)",
      "execution_count": 3,
      "outputs": [
        {
          "output_type": "execute_result",
          "execution_count": 3,
          "data": {
            "text/plain": "        candidate                    song        artist sentiment  theme  \\\nid                                                                         \n174  Donald Trump                   LIE-Z      Fat Boys  positive  money   \n113  Donald Trump         My Word Is Bond      Donald D  positive    NaN   \n111  Donald Trump            Johnny Ryall  Beastie Boys   neutral    NaN   \n193  Donald Trump  I Gotta Say What Up!!!      Ice Cube  positive  money   \n115  Donald Trump             Skill Trade          Nice  positive  money   \n\n     album_release_date                                               line  \nid                                                                          \n174                1989                Boy, I got money like Donald Trump!  \n113                1989  And after that me and Donald Trump hung out / ...  \n111                1989  Donald Trump and Donald Tramp living in the me...  \n193                1990             Cause he makin' more than Donald Trump  \n115                1990                     I'm not rich like Donald Trump  ",
            "text/html": "<div>\n<table border=\"1\" class=\"dataframe\">\n  <thead>\n    <tr style=\"text-align: right;\">\n      <th></th>\n      <th>candidate</th>\n      <th>song</th>\n      <th>artist</th>\n      <th>sentiment</th>\n      <th>theme</th>\n      <th>album_release_date</th>\n      <th>line</th>\n    </tr>\n    <tr>\n      <th>id</th>\n      <th></th>\n      <th></th>\n      <th></th>\n      <th></th>\n      <th></th>\n      <th></th>\n      <th></th>\n    </tr>\n  </thead>\n  <tbody>\n    <tr>\n      <th>174</th>\n      <td>Donald Trump</td>\n      <td>LIE-Z</td>\n      <td>Fat Boys</td>\n      <td>positive</td>\n      <td>money</td>\n      <td>1989</td>\n      <td>Boy, I got money like Donald Trump!</td>\n    </tr>\n    <tr>\n      <th>113</th>\n      <td>Donald Trump</td>\n      <td>My Word Is Bond</td>\n      <td>Donald D</td>\n      <td>positive</td>\n      <td>NaN</td>\n      <td>1989</td>\n      <td>And after that me and Donald Trump hung out / ...</td>\n    </tr>\n    <tr>\n      <th>111</th>\n      <td>Donald Trump</td>\n      <td>Johnny Ryall</td>\n      <td>Beastie Boys</td>\n      <td>neutral</td>\n      <td>NaN</td>\n      <td>1989</td>\n      <td>Donald Trump and Donald Tramp living in the me...</td>\n    </tr>\n    <tr>\n      <th>193</th>\n      <td>Donald Trump</td>\n      <td>I Gotta Say What Up!!!</td>\n      <td>Ice Cube</td>\n      <td>positive</td>\n      <td>money</td>\n      <td>1990</td>\n      <td>Cause he makin' more than Donald Trump</td>\n    </tr>\n    <tr>\n      <th>115</th>\n      <td>Donald Trump</td>\n      <td>Skill Trade</td>\n      <td>Nice</td>\n      <td>positive</td>\n      <td>money</td>\n      <td>1990</td>\n      <td>I'm not rich like Donald Trump</td>\n    </tr>\n  </tbody>\n</table>\n</div>"
          },
          "metadata": {}
        }
      ]
    },
    {
      "metadata": {
        "trusted": true
      },
      "cell_type": "code",
      "source": "trump = lyrics.loc[lyrics['candidate'] == 'Donald Trump']\npos_trump = trump.loc[trump['sentiment'] == 'positive'].sort_values(by=['album_release_date'])\npos_trump.head(5)",
      "execution_count": 4,
      "outputs": [
        {
          "output_type": "execute_result",
          "execution_count": 4,
          "data": {
            "text/plain": "        candidate                    song                artist sentiment  \\\nid                                                                          \n113  Donald Trump         My Word Is Bond              Donald D  positive   \n174  Donald Trump                   LIE-Z              Fat Boys  positive   \n193  Donald Trump  I Gotta Say What Up!!!              Ice Cube  positive   \n115  Donald Trump             Skill Trade                  Nice  positive   \n118  Donald Trump                Skypager  A Tribe Called Quest  positive   \n\n     theme  album_release_date  \\\nid                               \n113    NaN                1989   \n174  money                1989   \n193  money                1990   \n115  money                1990   \n118  money                1991   \n\n                                                  line  \nid                                                      \n113  And after that me and Donald Trump hung out / ...  \n174                Boy, I got money like Donald Trump!  \n193             Cause he makin' more than Donald Trump  \n115                     I'm not rich like Donald Trump  \n118       Beeper's goin off like Don Trump gets checks  ",
            "text/html": "<div>\n<table border=\"1\" class=\"dataframe\">\n  <thead>\n    <tr style=\"text-align: right;\">\n      <th></th>\n      <th>candidate</th>\n      <th>song</th>\n      <th>artist</th>\n      <th>sentiment</th>\n      <th>theme</th>\n      <th>album_release_date</th>\n      <th>line</th>\n    </tr>\n    <tr>\n      <th>id</th>\n      <th></th>\n      <th></th>\n      <th></th>\n      <th></th>\n      <th></th>\n      <th></th>\n      <th></th>\n    </tr>\n  </thead>\n  <tbody>\n    <tr>\n      <th>113</th>\n      <td>Donald Trump</td>\n      <td>My Word Is Bond</td>\n      <td>Donald D</td>\n      <td>positive</td>\n      <td>NaN</td>\n      <td>1989</td>\n      <td>And after that me and Donald Trump hung out / ...</td>\n    </tr>\n    <tr>\n      <th>174</th>\n      <td>Donald Trump</td>\n      <td>LIE-Z</td>\n      <td>Fat Boys</td>\n      <td>positive</td>\n      <td>money</td>\n      <td>1989</td>\n      <td>Boy, I got money like Donald Trump!</td>\n    </tr>\n    <tr>\n      <th>193</th>\n      <td>Donald Trump</td>\n      <td>I Gotta Say What Up!!!</td>\n      <td>Ice Cube</td>\n      <td>positive</td>\n      <td>money</td>\n      <td>1990</td>\n      <td>Cause he makin' more than Donald Trump</td>\n    </tr>\n    <tr>\n      <th>115</th>\n      <td>Donald Trump</td>\n      <td>Skill Trade</td>\n      <td>Nice</td>\n      <td>positive</td>\n      <td>money</td>\n      <td>1990</td>\n      <td>I'm not rich like Donald Trump</td>\n    </tr>\n    <tr>\n      <th>118</th>\n      <td>Donald Trump</td>\n      <td>Skypager</td>\n      <td>A Tribe Called Quest</td>\n      <td>positive</td>\n      <td>money</td>\n      <td>1991</td>\n      <td>Beeper's goin off like Don Trump gets checks</td>\n    </tr>\n  </tbody>\n</table>\n</div>"
          },
          "metadata": {}
        }
      ]
    },
    {
      "metadata": {
        "trusted": true
      },
      "cell_type": "code",
      "source": "#Create dataframe to count positive Trump lyrics\npos_trumptable = pd.DataFrame(columns = ['Year','Count'])\ncount = 0\ndate = '1989'\n#pos_trump.loc[[112],['album_release_date']]\nfor i in range(len(pos_trump)):\n    if date == pos_trump.iloc[i]:\n        count = count + 1\n        date = pos_trump.iloc[i]\n    else:\n        pos_trumptable = pos_trumptable.append({'Year':date,'Count':count},ignore_index=True)\n        count = 0\n        date = pos_trump.iloc[i]\n        count = count + 1\npos_trumptable = pos_trumptable.append({'Year':date,'Count':count},ignore_index=True)\n    \npos_trumptable.set_index('Year')    ",
      "execution_count": 7,
      "outputs": [
        {
          "output_type": "execute_result",
          "execution_count": 7,
          "data": {
            "text/plain": "      Count\nYear       \n1989    0.0\n1989    2.0\n1990    2.0\n1991    2.0\n1992    3.0\n1994    3.0\n1995    4.0\n1996    3.0\n1997    1.0\n1998    6.0\n1999    4.0\n2000    7.0\n2001    2.0\n2002    7.0\n2003    4.0\n2004    4.0\n2005    4.0\n2006    9.0\n2007    3.0\n2008    6.0\n2009    4.0\n2010    7.0\n2011    8.0\n2012   14.0\n2013   19.0\n2014   16.0\n2015   12.0\n2016    4.0",
            "text/html": "<div>\n<table border=\"1\" class=\"dataframe\">\n  <thead>\n    <tr style=\"text-align: right;\">\n      <th></th>\n      <th>Count</th>\n    </tr>\n    <tr>\n      <th>Year</th>\n      <th></th>\n    </tr>\n  </thead>\n  <tbody>\n    <tr>\n      <th>1989</th>\n      <td>0.0</td>\n    </tr>\n    <tr>\n      <th>1989</th>\n      <td>2.0</td>\n    </tr>\n    <tr>\n      <th>1990</th>\n      <td>2.0</td>\n    </tr>\n    <tr>\n      <th>1991</th>\n      <td>2.0</td>\n    </tr>\n    <tr>\n      <th>1992</th>\n      <td>3.0</td>\n    </tr>\n    <tr>\n      <th>1994</th>\n      <td>3.0</td>\n    </tr>\n    <tr>\n      <th>1995</th>\n      <td>4.0</td>\n    </tr>\n    <tr>\n      <th>1996</th>\n      <td>3.0</td>\n    </tr>\n    <tr>\n      <th>1997</th>\n      <td>1.0</td>\n    </tr>\n    <tr>\n      <th>1998</th>\n      <td>6.0</td>\n    </tr>\n    <tr>\n      <th>1999</th>\n      <td>4.0</td>\n    </tr>\n    <tr>\n      <th>2000</th>\n      <td>7.0</td>\n    </tr>\n    <tr>\n      <th>2001</th>\n      <td>2.0</td>\n    </tr>\n    <tr>\n      <th>2002</th>\n      <td>7.0</td>\n    </tr>\n    <tr>\n      <th>2003</th>\n      <td>4.0</td>\n    </tr>\n    <tr>\n      <th>2004</th>\n      <td>4.0</td>\n    </tr>\n    <tr>\n      <th>2005</th>\n      <td>4.0</td>\n    </tr>\n    <tr>\n      <th>2006</th>\n      <td>9.0</td>\n    </tr>\n    <tr>\n      <th>2007</th>\n      <td>3.0</td>\n    </tr>\n    <tr>\n      <th>2008</th>\n      <td>6.0</td>\n    </tr>\n    <tr>\n      <th>2009</th>\n      <td>4.0</td>\n    </tr>\n    <tr>\n      <th>2010</th>\n      <td>7.0</td>\n    </tr>\n    <tr>\n      <th>2011</th>\n      <td>8.0</td>\n    </tr>\n    <tr>\n      <th>2012</th>\n      <td>14.0</td>\n    </tr>\n    <tr>\n      <th>2013</th>\n      <td>19.0</td>\n    </tr>\n    <tr>\n      <th>2014</th>\n      <td>16.0</td>\n    </tr>\n    <tr>\n      <th>2015</th>\n      <td>12.0</td>\n    </tr>\n    <tr>\n      <th>2016</th>\n      <td>4.0</td>\n    </tr>\n  </tbody>\n</table>\n</div>"
          },
          "metadata": {}
        }
      ]
    },
    {
      "metadata": {
        "trusted": true
      },
      "cell_type": "code",
      "source": "neg_trump = trump.loc[trump['sentiment'] == 'negative'].sort_values(by=['album_release_date'])\nneg_trump.head(5)",
      "execution_count": 8,
      "outputs": [
        {
          "output_type": "execute_result",
          "execution_count": 8,
          "data": {
            "text/plain": "        candidate                song             artist sentiment      theme  \\\nid                                                                              \n120  Donald Trump            The Coup           The Coup  negative  political   \n159  Donald Trump  Right to Bare Arms      Killah Priest  negative        NaN   \n162  Donald Trump                Dumb  The High & Mighty  negative   personal   \n195  Donald Trump            Folklore           Dumbtron  negative  political   \n216  Donald Trump                P.A.         Mac Miller  negative   personal   \n\n     album_release_date                                               line  \nid                                                                          \n120                1993          Break yourself Trump, it's collection day  \n159                2005     This one's for the cops and the war lord Trump  \n162                2005            I'm Donald Trump, with raccoon hair-dos  \n195                2009  Alarming heat at the heels of a punk politicia...  \n216                2011                      Donald Trump with better hair  ",
            "text/html": "<div>\n<table border=\"1\" class=\"dataframe\">\n  <thead>\n    <tr style=\"text-align: right;\">\n      <th></th>\n      <th>candidate</th>\n      <th>song</th>\n      <th>artist</th>\n      <th>sentiment</th>\n      <th>theme</th>\n      <th>album_release_date</th>\n      <th>line</th>\n    </tr>\n    <tr>\n      <th>id</th>\n      <th></th>\n      <th></th>\n      <th></th>\n      <th></th>\n      <th></th>\n      <th></th>\n      <th></th>\n    </tr>\n  </thead>\n  <tbody>\n    <tr>\n      <th>120</th>\n      <td>Donald Trump</td>\n      <td>The Coup</td>\n      <td>The Coup</td>\n      <td>negative</td>\n      <td>political</td>\n      <td>1993</td>\n      <td>Break yourself Trump, it's collection day</td>\n    </tr>\n    <tr>\n      <th>159</th>\n      <td>Donald Trump</td>\n      <td>Right to Bare Arms</td>\n      <td>Killah Priest</td>\n      <td>negative</td>\n      <td>NaN</td>\n      <td>2005</td>\n      <td>This one's for the cops and the war lord Trump</td>\n    </tr>\n    <tr>\n      <th>162</th>\n      <td>Donald Trump</td>\n      <td>Dumb</td>\n      <td>The High &amp; Mighty</td>\n      <td>negative</td>\n      <td>personal</td>\n      <td>2005</td>\n      <td>I'm Donald Trump, with raccoon hair-dos</td>\n    </tr>\n    <tr>\n      <th>195</th>\n      <td>Donald Trump</td>\n      <td>Folklore</td>\n      <td>Dumbtron</td>\n      <td>negative</td>\n      <td>political</td>\n      <td>2009</td>\n      <td>Alarming heat at the heels of a punk politicia...</td>\n    </tr>\n    <tr>\n      <th>216</th>\n      <td>Donald Trump</td>\n      <td>P.A.</td>\n      <td>Mac Miller</td>\n      <td>negative</td>\n      <td>personal</td>\n      <td>2011</td>\n      <td>Donald Trump with better hair</td>\n    </tr>\n  </tbody>\n</table>\n</div>"
          },
          "metadata": {}
        }
      ]
    },
    {
      "metadata": {
        "trusted": false
      },
      "cell_type": "code",
      "source": "neg_trumptable = pd.DataFrame(columns = ['Year','Count'])\ncount = 0\ndate = 1993\n#pos_trump.loc[[112],['album_release_date']]\nfor i in range(len(neg_trump)):\n    if date == neg_trump.iloc[i]:\n        count = count + 1\n        date = neg_trump.iloc[i]\n    else:\n        neg_trumptable = neg_trumptable.append({'Year':date,'Count':count},ignore_index=True)\n        count = 0\n        date = neg_trump.iloc[i]\n        count = count + 1\nneg_trumptable = neg_trumptable.append({'Year':date,'Count':count},ignore_index=True)\n    \nneg_trumptable.set_index('Year')  ",
      "execution_count": 11,
      "outputs": [
        {
          "data": {
            "text/html": "<div>\n<style>\n    .dataframe thead tr:only-child th {\n        text-align: right;\n    }\n\n    .dataframe thead th {\n        text-align: left;\n    }\n\n    .dataframe tbody tr th {\n        vertical-align: top;\n    }\n</style>\n<table border=\"1\" class=\"dataframe\">\n  <thead>\n    <tr style=\"text-align: right;\">\n      <th></th>\n      <th>Count</th>\n    </tr>\n    <tr>\n      <th>Year</th>\n      <th></th>\n    </tr>\n  </thead>\n  <tbody>\n    <tr>\n      <th>1993</th>\n      <td>1</td>\n    </tr>\n    <tr>\n      <th>2005</th>\n      <td>2</td>\n    </tr>\n    <tr>\n      <th>2009</th>\n      <td>1</td>\n    </tr>\n    <tr>\n      <th>2011</th>\n      <td>1</td>\n    </tr>\n    <tr>\n      <th>2013</th>\n      <td>2</td>\n    </tr>\n    <tr>\n      <th>2014</th>\n      <td>1</td>\n    </tr>\n    <tr>\n      <th>2015</th>\n      <td>11</td>\n    </tr>\n    <tr>\n      <th>2016</th>\n      <td>15</td>\n    </tr>\n  </tbody>\n</table>\n</div>",
            "text/plain": "     Count\nYear      \n1993     1\n2005     2\n2009     1\n2011     1\n2013     2\n2014     1\n2015    11\n2016    15"
          },
          "execution_count": 11,
          "metadata": {},
          "output_type": "execute_result"
        }
      ]
    },
    {
      "metadata": {
        "trusted": false
      },
      "cell_type": "code",
      "source": "clinton = lyrics.loc[lyrics['candidate'] == 'Hillary Clinton']\npos_clinton = clinton.loc[clinton['sentiment'] == 'positive'].sort_values(by=['album_release_date'])\npos_clinton= pos_clinton.iloc[:,5]\npos_clinton\n\npos_clintontable = pd.DataFrame(columns = ['Year','Count'])\ncount = 0\ndate = 1989\n#pos_trump.loc[[112],['album_release_date']]\nfor i in range(len(pos_clinton)):\n    if date == pos_clinton.iloc[i]:\n        count = count + 1\n        date = pos_clinton.iloc[i]\n    else:\n        pos_clintontable = pos_clintontable.append({'Year':date,'Count':count},ignore_index=True)\n        count = 0\n        date = pos_clinton.iloc[i]\n        count = count + 1\npos_clintontable = pos_clintontable.append({'Year':date,'Count':count},ignore_index=True)\n    \npos_clintontable.set_index('Year') ",
      "execution_count": 12,
      "outputs": [
        {
          "data": {
            "text/html": "<div>\n<style>\n    .dataframe thead tr:only-child th {\n        text-align: right;\n    }\n\n    .dataframe thead th {\n        text-align: left;\n    }\n\n    .dataframe tbody tr th {\n        vertical-align: top;\n    }\n</style>\n<table border=\"1\" class=\"dataframe\">\n  <thead>\n    <tr style=\"text-align: right;\">\n      <th></th>\n      <th>Count</th>\n    </tr>\n    <tr>\n      <th>Year</th>\n      <th></th>\n    </tr>\n  </thead>\n  <tbody>\n    <tr>\n      <th>1989</th>\n      <td>0</td>\n    </tr>\n    <tr>\n      <th>2000</th>\n      <td>1</td>\n    </tr>\n    <tr>\n      <th>2007</th>\n      <td>3</td>\n    </tr>\n    <tr>\n      <th>2009</th>\n      <td>1</td>\n    </tr>\n    <tr>\n      <th>2010</th>\n      <td>3</td>\n    </tr>\n    <tr>\n      <th>2011</th>\n      <td>1</td>\n    </tr>\n    <tr>\n      <th>2012</th>\n      <td>1</td>\n    </tr>\n    <tr>\n      <th>2014</th>\n      <td>2</td>\n    </tr>\n    <tr>\n      <th>2015</th>\n      <td>3</td>\n    </tr>\n    <tr>\n      <th>2016</th>\n      <td>1</td>\n    </tr>\n  </tbody>\n</table>\n</div>",
            "text/plain": "     Count\nYear      \n1989     0\n2000     1\n2007     3\n2009     1\n2010     3\n2011     1\n2012     1\n2014     2\n2015     3\n2016     1"
          },
          "execution_count": 12,
          "metadata": {},
          "output_type": "execute_result"
        }
      ]
    },
    {
      "metadata": {
        "trusted": false
      },
      "cell_type": "code",
      "source": "neg_clinton = clinton.loc[clinton['sentiment'] == 'negative'].sort_values(by=['album_release_date'])\nneg_clinton= neg_clinton.iloc[:,5]\nneg_clinton\n\n\nneg_clintontable = pd.DataFrame(columns = ['Year','Count'])\ncount = 0\ndate = 1990\n#pos_trump.loc[[112],['album_release_date']]\nfor i in range(len(neg_clinton)):\n    if date == neg_clinton.iloc[i]:\n        count = count + 1\n        date = neg_clinton.iloc[i]\n    else:\n        neg_clintontable = neg_clintontable.append({'Year':date,'Count':count},ignore_index=True)\n        count = 0\n        date = neg_clinton.iloc[i]\n        count = count + 1\nneg_clintontable = neg_clintontable.append({'Year':date,'Count':count},ignore_index=True)\n    \nneg_clintontable.set_index('Year')  ",
      "execution_count": 13,
      "outputs": [
        {
          "data": {
            "text/html": "<div>\n<style>\n    .dataframe thead tr:only-child th {\n        text-align: right;\n    }\n\n    .dataframe thead th {\n        text-align: left;\n    }\n\n    .dataframe tbody tr th {\n        vertical-align: top;\n    }\n</style>\n<table border=\"1\" class=\"dataframe\">\n  <thead>\n    <tr style=\"text-align: right;\">\n      <th></th>\n      <th>Count</th>\n    </tr>\n    <tr>\n      <th>Year</th>\n      <th></th>\n    </tr>\n  </thead>\n  <tbody>\n    <tr>\n      <th>1990</th>\n      <td>0</td>\n    </tr>\n    <tr>\n      <th>1993</th>\n      <td>2</td>\n    </tr>\n    <tr>\n      <th>1994</th>\n      <td>2</td>\n    </tr>\n    <tr>\n      <th>1996</th>\n      <td>1</td>\n    </tr>\n    <tr>\n      <th>1998</th>\n      <td>1</td>\n    </tr>\n    <tr>\n      <th>1999</th>\n      <td>1</td>\n    </tr>\n    <tr>\n      <th>2001</th>\n      <td>1</td>\n    </tr>\n    <tr>\n      <th>2002</th>\n      <td>1</td>\n    </tr>\n    <tr>\n      <th>2004</th>\n      <td>1</td>\n    </tr>\n    <tr>\n      <th>2008</th>\n      <td>10</td>\n    </tr>\n    <tr>\n      <th>2009</th>\n      <td>1</td>\n    </tr>\n    <tr>\n      <th>2010</th>\n      <td>1</td>\n    </tr>\n    <tr>\n      <th>2011</th>\n      <td>1</td>\n    </tr>\n    <tr>\n      <th>2012</th>\n      <td>3</td>\n    </tr>\n    <tr>\n      <th>2013</th>\n      <td>2</td>\n    </tr>\n    <tr>\n      <th>2015</th>\n      <td>1</td>\n    </tr>\n  </tbody>\n</table>\n</div>",
            "text/plain": "     Count\nYear      \n1990     0\n1993     2\n1994     2\n1996     1\n1998     1\n1999     1\n2001     1\n2002     1\n2004     1\n2008    10\n2009     1\n2010     1\n2011     1\n2012     3\n2013     2\n2015     1"
          },
          "execution_count": 13,
          "metadata": {},
          "output_type": "execute_result"
        }
      ]
    },
    {
      "metadata": {
        "collapsed": true,
        "trusted": false
      },
      "cell_type": "code",
      "source": "",
      "execution_count": null,
      "outputs": []
    },
    {
      "metadata": {
        "collapsed": true,
        "trusted": false
      },
      "cell_type": "code",
      "source": "",
      "execution_count": null,
      "outputs": []
    }
  ],
  "metadata": {
    "kernelspec": {
      "name": "python3",
      "display_name": "Python 3",
      "language": "python"
    },
    "language_info": {
      "mimetype": "text/x-python",
      "nbconvert_exporter": "python",
      "name": "python",
      "pygments_lexer": "ipython3",
      "version": "3.5.4",
      "file_extension": ".py",
      "codemirror_mode": {
        "version": 3,
        "name": "ipython"
      }
    }
  },
  "nbformat": 4,
  "nbformat_minor": 2
}