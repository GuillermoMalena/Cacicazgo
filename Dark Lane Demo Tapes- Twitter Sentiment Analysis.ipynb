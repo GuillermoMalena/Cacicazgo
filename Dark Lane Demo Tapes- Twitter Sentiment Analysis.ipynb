{
  "cells": [
    {
      "metadata": {
        "trusted": true
      },
      "cell_type": "code",
      "source": "#import packages and authenticate my Twitter API\nimport sys\n!{sys.executable} -m pip install tweepy\n!python3 -m textblob.download_corpora\nimport os\nimport tweepy as tw\nimport pandas as pd\nfrom textblob import TextBlob\nimport itertools\nimport collections\nimport nltk\nfrom nltk.corpus import stopwords\nimport re\nimport networkx\nfrom textblob.classifiers import NaiveBayesClassifier\nconsumer_key= 'sFUarGpGxd2g8ffveZlP12abB'\nconsumer_secret= 'gPRN4tosQKk52tSZ7MG5A6V9h7ln8sTPAYpWp8L52UizYqbf4K'\naccess_token= '1169759758070505472-Y4iKdDZia6v1fMyXX3Qcmp1k3E10Iz'\naccess_token_secret= 'CWrLNVwAFXchbpzNHorvcxlli8NAA0DuprB0YrJUEJxu6'\n\nauth = tw.OAuthHandler(consumer_key, consumer_secret)\nauth.set_access_token(access_token, access_token_secret)\napi = tw.API(auth, wait_on_rate_limit=True,wait_on_rate_limit_notify=True)\n",
      "execution_count": null,
      "outputs": [
        {
          "output_type": "stream",
          "text": "Collecting tweepy\n  Downloading https://files.pythonhosted.org/packages/bb/7c/99d51f80f3b77b107ebae2634108717362c059a41384a1810d13e2429a81/tweepy-3.9.0-py2.py3-none-any.whl\nRequirement already satisfied: requests[socks]>=2.11.1 in /home/nbuser/anaconda3_420/lib/python3.5/site-packages (from tweepy) (2.14.2)\nRequirement already satisfied: six>=1.10.0 in /home/nbuser/anaconda3_420/lib/python3.5/site-packages (from tweepy) (1.11.0)\nRequirement already satisfied: requests-oauthlib>=0.7.0 in /home/nbuser/anaconda3_420/lib/python3.5/site-packages (from tweepy) (1.3.0)\nCollecting PySocks!=1.5.7,>=1.5.6\n  Downloading https://files.pythonhosted.org/packages/8d/59/b4572118e098ac8e46e399a1dd0f2d85403ce8bbaad9ec79373ed6badaf9/PySocks-1.7.1-py3-none-any.whl\nRequirement already satisfied: oauthlib>=3.0.0 in /home/nbuser/anaconda3_420/lib/python3.5/site-packages (from requests-oauthlib>=0.7.0->tweepy) (3.1.0)\nInstalling collected packages: tweepy, PySocks\nSuccessfully installed PySocks-1.7.1 tweepy-3.9.0\n\u001b[33mWARNING: You are using pip version 19.3.1; however, version 20.1.1 is available.\nYou should consider upgrading via the 'pip install --upgrade pip' command.\u001b[0m\n[nltk_data] Downloading package brown to /home/nbuser/nltk_data...\n[nltk_data]   Unzipping corpora/brown.zip.\n[nltk_data] Downloading package punkt to /home/nbuser/nltk_data...\n[nltk_data]   Unzipping tokenizers/punkt.zip.\n[nltk_data] Downloading package wordnet to /home/nbuser/nltk_data...\n[nltk_data]   Unzipping corpora/wordnet.zip.\n[nltk_data] Downloading package averaged_perceptron_tagger to\n[nltk_data]     /home/nbuser/nltk_data...\n[nltk_data]   Unzipping taggers/averaged_perceptron_tagger.zip.\n",
          "name": "stdout"
        }
      ]
    },
    {
      "metadata": {
        "trusted": true
      },
      "cell_type": "code",
      "source": "#main class created to process tweets\nclass ProcessTweets:\n    def __init__(self):\n        pass\n        \n    #methods to filter stopwords, emoticons and common emojis\n    def stopwords(self):\n        emoticons_happy = set([\n    ':-)', ':)', ';)', ':o)', ':]', ':3', ':c)', ':>', '=]', '8)', '=)', ':}',\n    ':^)', ':-D', ':D', '8-D', '8D', 'x-D', 'xD', 'X-D', 'XD', '=-D', '=D',\n    '=-3', '=3', ':-))', \":'-)\", \":')\", ':*', ':^*', '>:P', ':-P', ':P', 'X-P',\n    'x-p', 'xp', 'XP', ':-p', ':p', '=p', ':-b', ':b', '>:)', '>;)', '>:-)',\n    '<3'\n    ])\n    # Sad Emoticons\n        emoticons_sad = set([\n    ':L', ':-/', '>:/', ':S', '>:[', ':@', ':-(', ':[', ':-||', '=L', ':<',\n    ':-[', ':-<', '=\\\\', '=/', '>:(', ':(', '>.<', \":'-(\", \":'(\", ':\\\\', ':-c',\n    ':c', ':{', '>:\\\\', ';('\n    ])\n    #Emoji patterns\n        emoji_pattern = re.compile(\"[\"\n         u\"\\U0001F600-\\U0001F64F\"  # emoticons\n         u\"\\U0001F300-\\U0001F5FF\"  # symbols & pictographs\n         u\"\\U0001F680-\\U0001F6FF\"  # transport & map symbols\n         u\"\\U0001F1E0-\\U0001F1FF\"  # flags (iOS)\n         u\"\\U00002702-\\U000027B0\"\n         u\"\\U000024C2-\\U0001F251\"\n         \"]+\", flags=re.UNICODE)\n        emoticons = emoticons_happy.union(emoticons_sad)\n        nltk.download('stopwords')\n        stop_words = set(stopwords.words('english'))\n        stop_words.update(['&','*','|','-','go','find','~','/','|','0','1','2','3','4','5','6','7','8','9','10','news','me','place','fan',',','fan/','.','ig','follow','AT_USER','URL','url'])\n        stop_words.update(emoticons)\n        new_stop_words = set(stop_words)\n        return new_stop_words\n    #filter tweet and subsitute for @ symbols and URLs\n    def processtweet(self, tweet):\n        tweet = tweet.lower()\n        tweet = re.sub('((www\\.[^\\s]+)|(https?://[^\\s]+))', 'URL', tweet)\n        tweet = re.sub('@[^\\s]+', 'AT_USER', tweet)\n        tweet = re.sub(r'#([^\\s]+)', r'\\1', tweet)\n        tweet = re.sub(r':', '', tweet)\n        tweet = re.sub(r'‚Ä¶', '', tweet)\n        tweet = re.sub(r'[^\\x00-\\x7F]+',' ', tweet)\n        \n        return tweet\n    #basic NLP training for training set\n    def basictraining(self):\n        import csv\n        global cl\n        with open('basictraining.csv', 'r') as basic:\n            cl = NaiveBayesClassifier(basic, format=\"csv\")\n        with open('ebonics_training.csv', newline='') as f:\n            reader = csv.reader(f)\n            data = list(reader)\n            cl.update(data)\n        with open('traintweets.csv', newline='') as f:\n            reader = csv.reader(f)\n            data = list(reader)\n            cl.update(data)\n            \n        \n    #analyze training data set and retrain it as well    \n    def analyzeoldtweets(self,search_words,date_since,date_until,resulttype,count,geo):\n        sentiments = []\n        import csv\n        global cl\n        with open('basictraining.csv', 'r') as basic:\n            cl = NaiveBayesClassifier(basic, format=\"csv\")\n        with open('ebonics_training.csv', newline='') as f:\n            reader = csv.reader(f)\n            data = list(reader)\n            cl.update(data)\n        with open('traintweets.csv', newline='') as f:\n            reader = csv.reader(f)\n            data = list(reader)\n            cl.update(data)\n        tweets = tw.Cursor(api.search,\n              q=search_words,result_type = resulttype,\n              lang=\"en\",\n              since=date_since,until=date_until,geocode=geo).items(count)\n        for t in tweets:    \n            if (not t.retweeted) and ('RT @' not in t.text):\n                tweettext = self.processtweet(t.text)\n                tweet_sentiment = cl.classify(t.text)\n                sentiments.append({'User':t.user.screen_name,'Tweet': tweettext,'Sentiment':tweet_sentiment,'Bios':t.user.description,'Time':t.created_at,'Retweets':t.retweet_count,'Likes':t.favorite_count,'Followers':t.user.followers_count})\n        sent = pd.DataFrame(sentiments)\n        return sent\n    \n    #analyze test dataset and provide sentiments\n    def analyzenewtweets(self,search_words,resulttype,count):\n        sentiments=[]\n        tweets = tw.Cursor(api.search,\n              q=search_words,result_type = resulttype,\n              lang=\"en\").items(count)\n        for t in tweets:    \n            if (not t.retweeted) and ('RT @' not in t.text):\n                tweettext = self.processtweet(t.text)\n                tweet_sentiment = cl.classify(t.text)\n                sentiments.append({'User':t.user.screen_name,'Tweet': tweettext,'Sentiment':tweet_sentiment,'Bios':t.user.description,'Time':t.created_at,'Retweets':t.retweet_count,'Likes':t.favorite_count,'Followers':t.user.followers_count})\n        sent = pd.DataFrame(sentiments)\n        return sent\n    \n    #find frequency of most common terms in Bio\n    def bioprocessor(self, output,stopwords):\n        bios = output['Bios'].tolist()\n        bios = list(itertools.chain(bios))\n        words = [tweet.lower().split() for tweet in bios]\n        clean_tweets = [[word for word in tweet_words if not word in stopwords] for tweet_words in words]\n        all_clean_words = list(itertools.chain(*clean_tweets))\n        newcount = collections.Counter(all_clean_words)\n        freq = pd.DataFrame(newcount.most_common(30),\n                             columns=['words', 'count'])\n        \n        return freq\n    #find frequency of most common terms in Tweets\n    def tweetprocessor(self,output,stopwords):\n        body = output['Tweet'].tolist()\n        body = list(itertools.chain(body))\n        tweetwords = [tweet.lower().split() for tweet in body]\n        clean_tweetwords = [[word for word in tweet_words if not word in stopwords] for tweet_words in tweetwords]\n        all_clean_tweetwords = list(itertools.chain(*clean_tweetwords))\n        tweetcount = collections.Counter(all_clean_tweetwords)\n        tweetfreq = pd.DataFrame(tweetcount.most_common(30),\n                         columns=['words', 'count'])\n        return tweetfreq",
      "execution_count": 2,
      "outputs": []
    },
    {
      "metadata": {
        "trusted": true
      },
      "cell_type": "code",
      "source": "processor = ProcessTweets()\nsearch_words = \"#DarkLaneDemoTapes\"\nday1 = \"2020-04-30\"\nday2 = \"2020-05-01\"\nday3 = \"2020-05-02\"\nday4 = \"2020-05-03\"\nday5 = \"2020-04-08\"\nday6 = \"2020-04-09\"\nday7 = \"2020-04-10\"\nresult_type = 'recent'\npopular = 'popular'\ngeo = \"40.714353,-74.00597299999998,20km\"\ncount = 1500",
      "execution_count": 3,
      "outputs": []
    },
    {
      "metadata": {},
      "cell_type": "markdown",
      "source": "# Create first batch of untrained tweets and train them"
    },
    {
      "metadata": {
        "trusted": true
      },
      "cell_type": "code",
      "source": "untrainedtweets = processor.analyzeoldtweets(search_words,day1,day3,result_type,count,geo)\nuntrained.to_csv('untrainedtweets.csv')\n#correct sentiment then copy and paste to trainedtweets.csv",
      "execution_count": null,
      "outputs": []
    },
    {
      "metadata": {},
      "cell_type": "markdown",
      "source": "# Reprocess Tweets and then first see first batch of sentiment tweets"
    },
    {
      "metadata": {
        "trusted": true
      },
      "cell_type": "code",
      "source": "firstbatch = processor.analyzeoldtweets(search_words,day1,day3,result_type,count,geo)\nfirstbatch_sent = firstbatch['Sentiment'].value_counts(normalize=True)*100\nfirstbatch.to_csv('darklanetweets.csv', header=False, mode = 'a')\npd.read_csv('darklanetweets.csv') ",
      "execution_count": null,
      "outputs": []
    },
    {
      "metadata": {},
      "cell_type": "markdown",
      "source": "# Pull latest Tweets and retrain them, add them to 'trainedtweets'"
    },
    {
      "metadata": {
        "trusted": true
      },
      "cell_type": "code",
      "source": "newprocessor = ProcessTweets()\nnewtweets = newprocessor.analyzenewtweets(search_words,result_type,count)\nnewtweets.to_csv('untrainedtweets.csv')\n#correct sentiment then copy and paste to trainedtweets.csv",
      "execution_count": null,
      "outputs": []
    },
    {
      "metadata": {},
      "cell_type": "markdown",
      "source": "# Process Latest Tweets and add them to overall csv"
    },
    {
      "metadata": {
        "trusted": true
      },
      "cell_type": "code",
      "source": "newtweets = newprocessor.analyzenewtweets(search_words,result_type,count)\nnewtweets.to_csv('darklantetweets.csv',header=False,mode='a')\npd.read_csv('darklanetweets.csv')",
      "execution_count": null,
      "outputs": []
    },
    {
      "metadata": {},
      "cell_type": "markdown",
      "source": "# Analyze Sentiment Overall So Far"
    },
    {
      "metadata": {
        "trusted": true
      },
      "cell_type": "code",
      "source": "alltweets = pd.read_csv('darklanetweets.csv')\nsent_count = alltweets['Sentiment'].value_counts(normalize=True)*100\nsent_count",
      "execution_count": null,
      "outputs": []
    },
    {
      "metadata": {},
      "cell_type": "markdown",
      "source": "# Bio Freq & Tweet Freq"
    },
    {
      "metadata": {
        "trusted": true
      },
      "cell_type": "code",
      "source": "new_stop_words = processor.stopwords()\nbiofreq = processor.bioprocessor(alltweets,new_stop_words)\nbiofreq",
      "execution_count": null,
      "outputs": []
    },
    {
      "metadata": {
        "trusted": true
      },
      "cell_type": "code",
      "source": "tweetfreq = processor.tweetprocessor(alltweets,new_stop_words)\ntweetfreq",
      "execution_count": null,
      "outputs": []
    },
    {
      "metadata": {
        "trusted": true
      },
      "cell_type": "code",
      "source": "day1tweets = processor.analyzeoldtweets(search_words,day1,day2,result_type,count,geo)\nday1tweets\nday1_sent_count = day1tweets['Sentiment'].value_counts(normalize = True)*100\nday1_sent_count",
      "execution_count": 6,
      "outputs": [
        {
          "output_type": "execute_result",
          "execution_count": 6,
          "data": {
            "text/plain": "pos    100.0\nName: Sentiment, dtype: float64"
          },
          "metadata": {}
        }
      ]
    },
    {
      "metadata": {
        "trusted": true
      },
      "cell_type": "code",
      "source": "day2tweets = processor.analyzeoldtweets(search_words,day1,day3,result_type,count,geo)\nday2tweets.to_csv('darklanetweets.csv')\nday2tweets\nday2_sent_count = day2tweets['Sentiment'].value_counts(normalize = True)*100\nday2_sent_count",
      "execution_count": 8,
      "outputs": [
        {
          "output_type": "execute_result",
          "execution_count": 8,
          "data": {
            "text/plain": "pos        94.886364\nneg         3.977273\nneutral     1.136364\nName: Sentiment, dtype: float64"
          },
          "metadata": {}
        }
      ]
    },
    {
      "metadata": {
        "trusted": true
      },
      "cell_type": "code",
      "source": "day3tweets = processor.analyzeoldtweets(search_words,day3,day4,result_type,count,geo)\nday3tweets.to_csv('darklanetweets.csv', header=False, mode = 'a')\nday3_sent_count = day3tweets['Sentiment'].value_counts(normalize = True)*100\nday3_sent_count",
      "execution_count": 4,
      "outputs": [
        {
          "output_type": "execute_result",
          "execution_count": 4,
          "data": {
            "text/plain": "pos    93.75\nneg     6.25\nName: Sentiment, dtype: float64"
          },
          "metadata": {}
        }
      ]
    },
    {
      "metadata": {
        "trusted": true
      },
      "cell_type": "code",
      "source": "newprocessor = ProcessTweets()\nnewtweets = newprocessor.analyzenewtweets(search_words,result_type,count)\nnewtweets.to_csv('darklanetweets.csv',header=False,mode='a')",
      "execution_count": 7,
      "outputs": []
    },
    {
      "metadata": {
        "trusted": true
      },
      "cell_type": "code",
      "source": "alltweets = pd.read_csv('darklanetweets.csv')\nalltweets_count = alltweets['Sentiment'].value_counts(normalize=True)*100\nalltweets_count",
      "execution_count": 8,
      "outputs": [
        {
          "output_type": "execute_result",
          "execution_count": 8,
          "data": {
            "text/plain": "pos        97.861635\nneg         1.886792\nneutral     0.251572\nName: Sentiment, dtype: float64"
          },
          "metadata": {}
        }
      ]
    },
    {
      "metadata": {
        "trusted": true
      },
      "cell_type": "code",
      "source": "alltweets",
      "execution_count": 9,
      "outputs": [
        {
          "output_type": "execute_result",
          "execution_count": 9,
          "data": {
            "text/html": "<div>\n<table border=\"1\" class=\"dataframe\">\n  <thead>\n    <tr style=\"text-align: right;\">\n      <th></th>\n      <th>Unnamed: 0</th>\n      <th>Bios</th>\n      <th>Followers</th>\n      <th>Likes</th>\n      <th>Retweets</th>\n      <th>Sentiment</th>\n      <th>Time</th>\n      <th>Tweet</th>\n      <th>User</th>\n    </tr>\n  </thead>\n  <tbody>\n    <tr>\n      <th>0</th>\n      <td>0</td>\n      <td>NYC🗽| NJ 🧱 Last account suspended @ 4K 🙄 Model...</td>\n      <td>631</td>\n      <td>2</td>\n      <td>0</td>\n      <td>pos</td>\n      <td>2020-05-01 23:57:33</td>\n      <td>okay so i know drake never disappoints but whe...</td>\n      <td>therealemiliaa</td>\n    </tr>\n    <tr>\n      <th>1</th>\n      <td>1</td>\n      <td>FL📍 | DMV | NYC Jeremiah 29:11 The sparkle dep...</td>\n      <td>1280</td>\n      <td>1</td>\n      <td>0</td>\n      <td>neg</td>\n      <td>2020-05-01 23:53:53</td>\n      <td>me watching everyone praise drake for the new ...</td>\n      <td>Kimeraaa_</td>\n    </tr>\n    <tr>\n      <th>2</th>\n      <td>2</td>\n      <td>made in 🇵🇷  : unOrdinary : ♥️⚓️✝️ :    a mi na...</td>\n      <td>7</td>\n      <td>0</td>\n      <td>0</td>\n      <td>pos</td>\n      <td>2020-05-01 23:39:14</td>\n      <td>AT_USER who are you talking about in losses? f...</td>\n      <td>Rebulera89</td>\n    </tr>\n    <tr>\n      <th>3</th>\n      <td>3</td>\n      <td>Social Media Strategist @Tasty✨</td>\n      <td>418</td>\n      <td>12</td>\n      <td>4</td>\n      <td>pos</td>\n      <td>2020-05-01 23:11:23</td>\n      <td>i made this for you AT_USER darklanedemotapes URL</td>\n      <td>angiekraz</td>\n    </tr>\n    <tr>\n      <th>4</th>\n      <td>4</td>\n      <td>writing a book on the link between brain damag...</td>\n      <td>969</td>\n      <td>0</td>\n      <td>0</td>\n      <td>pos</td>\n      <td>2020-05-01 23:09:02</td>\n      <td>ight go ahead what s the best song on darklane...</td>\n      <td>detectiv3konan</td>\n    </tr>\n    <tr>\n      <th>5</th>\n      <td>5</td>\n      <td>Making Culture Pop.</td>\n      <td>2215798</td>\n      <td>189</td>\n      <td>23</td>\n      <td>pos</td>\n      <td>2020-05-01 22:32:56</td>\n      <td>from the hills of los angeles   to new york ci...</td>\n      <td>Complex</td>\n    </tr>\n    <tr>\n      <th>6</th>\n      <td>6</td>\n      <td>Father God forgive me ima be sinning for a min...</td>\n      <td>6</td>\n      <td>0</td>\n      <td>0</td>\n      <td>pos</td>\n      <td>2020-05-01 22:21:31</td>\n      <td>who had the better  quarantine bars AT_USER or...</td>\n      <td>ike3hunna</td>\n    </tr>\n    <tr>\n      <th>7</th>\n      <td>7</td>\n      <td>III Nana 💙</td>\n      <td>49</td>\n      <td>0</td>\n      <td>0</td>\n      <td>pos</td>\n      <td>2020-05-01 22:20:19</td>\n      <td>i literally love every song on AT_USER album d...</td>\n      <td>vgotthetea1</td>\n    </tr>\n    <tr>\n      <th>8</th>\n      <td>8</td>\n      <td>🅙🅤🅢🅣 🅐 🅢🅐🅜🅟🅛🅔 ➋ Λｖａｉｌａｂｌｅ ＯＮ 𝙰𝙻𝙻 𝙼𝚊𝚓𝚘𝚛 MUSIC P...</td>\n      <td>21488</td>\n      <td>0</td>\n      <td>0</td>\n      <td>pos</td>\n      <td>2020-05-01 22:13:29</td>\n      <td>thank god 4 darklanedemotapes</td>\n      <td>ClassyBlassy</td>\n    </tr>\n    <tr>\n      <th>9</th>\n      <td>9</td>\n      <td>If I see it, so do you. Mike Maccagnan should ...</td>\n      <td>4661</td>\n      <td>2</td>\n      <td>1</td>\n      <td>pos</td>\n      <td>2020-05-01 21:52:26</td>\n      <td>drake canada montreal jamaica morelife houston...</td>\n      <td>klew24</td>\n    </tr>\n    <tr>\n      <th>10</th>\n      <td>10</td>\n      <td>☁️Streetwear ☁️Interviews ☁️Vlogs</td>\n      <td>4</td>\n      <td>0</td>\n      <td>0</td>\n      <td>pos</td>\n      <td>2020-05-01 20:59:10</td>\n      <td>dark lanes demo tape or scorpion drake darklan...</td>\n      <td>HyestAve</td>\n    </tr>\n    <tr>\n      <th>11</th>\n      <td>11</td>\n      <td>The Specialist. Resume: @XXL, @Vibe, @MassAppe...</td>\n      <td>2013</td>\n      <td>0</td>\n      <td>0</td>\n      <td>pos</td>\n      <td>2020-05-01 20:51:54</td>\n      <td>darklanedemotapes is the most well-received dr...</td>\n      <td>CrooklynsDodger</td>\n    </tr>\n    <tr>\n      <th>12</th>\n      <td>12</td>\n      <td>https://t.co/8qftZVJV3m</td>\n      <td>57</td>\n      <td>0</td>\n      <td>0</td>\n      <td>pos</td>\n      <td>2020-05-01 20:23:17</td>\n      <td>drake thinks hes so uk   darklanedemotapes</td>\n      <td>abokinlaa</td>\n    </tr>\n    <tr>\n      <th>13</th>\n      <td>13</td>\n      <td>There's more to life. Follow us on IG:@Kulture...</td>\n      <td>1215</td>\n      <td>1</td>\n      <td>0</td>\n      <td>pos</td>\n      <td>2020-05-01 20:17:18</td>\n      <td>raise your hand if you bumping that new drake?...</td>\n      <td>KultureHub</td>\n    </tr>\n    <tr>\n      <th>14</th>\n      <td>14</td>\n      <td>Writer, Comic Persona, Musician, Political and...</td>\n      <td>548</td>\n      <td>0</td>\n      <td>0</td>\n      <td>pos</td>\n      <td>2020-05-01 19:30:16</td>\n      <td>ayo AT_USER the new darklanedemotapes is aight...</td>\n      <td>MrScotFree</td>\n    </tr>\n    <tr>\n      <th>15</th>\n      <td>15</td>\n      <td>25|🇱🇰</td>\n      <td>1254</td>\n      <td>1</td>\n      <td>0</td>\n      <td>pos</td>\n      <td>2020-05-01 19:22:33</td>\n      <td>losses is def one of the best ones on darklane...</td>\n      <td>Rangaaaa__</td>\n    </tr>\n    <tr>\n      <th>16</th>\n      <td>16</td>\n      <td>Wash ur hands and stay home ♥️</td>\n      <td>740</td>\n      <td>0</td>\n      <td>0</td>\n      <td>pos</td>\n      <td>2020-05-01 19:19:42</td>\n      <td>i m probably annoying my roommates with demons...</td>\n      <td>Lahtiyaz</td>\n    </tr>\n    <tr>\n      <th>17</th>\n      <td>17</td>\n      <td>Wash ur hands and stay home ♥️</td>\n      <td>740</td>\n      <td>0</td>\n      <td>0</td>\n      <td>pos</td>\n      <td>2020-05-01 19:18:00</td>\n      <td>im more in love today than ever before darklan...</td>\n      <td>Lahtiyaz</td>\n    </tr>\n    <tr>\n      <th>18</th>\n      <td>18</td>\n      <td>🤵🏿👰🏾💍 4️⃣1️⃣4️⃣1️⃣9️⃣ 🐝👶🏾🧸 5️⃣2️⃣1️⃣1️⃣9️⃣</td>\n      <td>56</td>\n      <td>0</td>\n      <td>0</td>\n      <td>pos</td>\n      <td>2020-05-01 18:56:19</td>\n      <td>demons is hitting right now  ...\\ndarklanedemo...</td>\n      <td>BigeffinKev</td>\n    </tr>\n    <tr>\n      <th>19</th>\n      <td>19</td>\n      <td>Home of the Marvel™️ Aficionado!!!! YouTube Ch...</td>\n      <td>53</td>\n      <td>0</td>\n      <td>0</td>\n      <td>pos</td>\n      <td>2020-05-01 18:48:12</td>\n      <td>alcohol wiping the new additions to the collec...</td>\n      <td>3vry1lvsgdstry</td>\n    </tr>\n    <tr>\n      <th>20</th>\n      <td>20</td>\n      <td>I love to sing.</td>\n      <td>12414</td>\n      <td>2</td>\n      <td>0</td>\n      <td>pos</td>\n      <td>2020-05-01 18:34:16</td>\n      <td>very surprised drake doesn't have a lyric abou...</td>\n      <td>CathiaSings</td>\n    </tr>\n    <tr>\n      <th>21</th>\n      <td>21</td>\n      <td>future artistic genius ig:@aartimisaa 19 FIT ‘23</td>\n      <td>430</td>\n      <td>0</td>\n      <td>0</td>\n      <td>pos</td>\n      <td>2020-05-01 18:30:46</td>\n      <td>i m in this bihhh w the wooski   darklanedemot...</td>\n      <td>misosbowl</td>\n    </tr>\n    <tr>\n      <th>22</th>\n      <td>22</td>\n      <td>I complain about my teams a lot. NYJ, NYY, NYK...</td>\n      <td>242</td>\n      <td>1</td>\n      <td>0</td>\n      <td>pos</td>\n      <td>2020-05-01 18:29:59</td>\n      <td>thank you AT_USER for releasing darklanedemota...</td>\n      <td>DT_Hickey23</td>\n    </tr>\n    <tr>\n      <th>23</th>\n      <td>23</td>\n      <td>In all seriousness.. I’m not really being seri...</td>\n      <td>100</td>\n      <td>1</td>\n      <td>0</td>\n      <td>pos</td>\n      <td>2020-05-01 18:28:41</td>\n      <td>me realizing every drake song is my jam darkla...</td>\n      <td>taraleeco</td>\n    </tr>\n    <tr>\n      <th>24</th>\n      <td>24</td>\n      <td>Queens Kid | Journalist @BSO | MLB Stats Guy |...</td>\n      <td>586</td>\n      <td>0</td>\n      <td>0</td>\n      <td>pos</td>\n      <td>2020-05-01 18:21:22</td>\n      <td>no one has perfected providing limitless quota...</td>\n      <td>StephenFlorival</td>\n    </tr>\n    <tr>\n      <th>25</th>\n      <td>25</td>\n      <td>Onliest. life cars music etc ♑</td>\n      <td>656</td>\n      <td>0</td>\n      <td>0</td>\n      <td>pos</td>\n      <td>2020-05-01 18:19:52</td>\n      <td>this rides. might have to pull the jeep out ov...</td>\n      <td>PdotHALL</td>\n    </tr>\n    <tr>\n      <th>26</th>\n      <td>26</td>\n      <td>MUFC. 🇱🇸</td>\n      <td>50</td>\n      <td>0</td>\n      <td>0</td>\n      <td>pos</td>\n      <td>2020-05-01 18:11:12</td>\n      <td>the transition from not you too to toostie sli...</td>\n      <td>DavidMapheleba</td>\n    </tr>\n    <tr>\n      <th>27</th>\n      <td>27</td>\n      <td>NBA // Music // Food // gym rat 🐭</td>\n      <td>76</td>\n      <td>0</td>\n      <td>0</td>\n      <td>pos</td>\n      <td>2020-05-01 18:06:22</td>\n      <td>darklanedemotapes at least 6,9/10!</td>\n      <td>Swa69yNets</td>\n    </tr>\n    <tr>\n      <th>28</th>\n      <td>28</td>\n      <td>Empowering women to love &amp; be themselves by em...</td>\n      <td>455</td>\n      <td>0</td>\n      <td>0</td>\n      <td>pos</td>\n      <td>2020-05-01 17:53:48</td>\n      <td>drake just knew he killed it in  when to say w...</td>\n      <td>shanteljcx3</td>\n    </tr>\n    <tr>\n      <th>29</th>\n      <td>29</td>\n      <td>#Slytherin #ILoveYou3000 #XRP</td>\n      <td>3957</td>\n      <td>0</td>\n      <td>0</td>\n      <td>pos</td>\n      <td>2020-05-01 17:40:09</td>\n      <td>\"you love me and i love you\\nyour head hurts a...</td>\n      <td>MageXJohn</td>\n    </tr>\n    <tr>\n      <th>...</th>\n      <td>...</td>\n      <td>...</td>\n      <td>...</td>\n      <td>...</td>\n      <td>...</td>\n      <td>...</td>\n      <td>...</td>\n      <td>...</td>\n      <td>...</td>\n    </tr>\n    <tr>\n      <th>765</th>\n      <td>573</td>\n      <td>Devil on my shoulder.. The Lord is my witness</td>\n      <td>1240</td>\n      <td>0</td>\n      <td>0</td>\n      <td>pos</td>\n      <td>2020-05-02 05:05:29</td>\n      <td>darklanedemotapes slaps</td>\n      <td>TheRealJacoby</td>\n    </tr>\n    <tr>\n      <th>766</th>\n      <td>574</td>\n      <td>Follow my main @jimmyhendriix</td>\n      <td>25</td>\n      <td>1</td>\n      <td>0</td>\n      <td>pos</td>\n      <td>2020-05-02 04:58:30</td>\n      <td>when AT_USER said  house on both coasts but i ...</td>\n      <td>TednotX</td>\n    </tr>\n    <tr>\n      <th>767</th>\n      <td>575</td>\n      <td>IG : @dj.STRETCH @EXTATICSOUND</td>\n      <td>1287</td>\n      <td>0</td>\n      <td>0</td>\n      <td>pos</td>\n      <td>2020-05-02 04:57:31</td>\n      <td>rather see my heart turn crystal darklanedemot...</td>\n      <td>Dj_Stretch_</td>\n    </tr>\n    <tr>\n      <th>768</th>\n      <td>576</td>\n      <td>Western, Ryerson, Finance Major, Investor, Foo...</td>\n      <td>88</td>\n      <td>0</td>\n      <td>0</td>\n      <td>pos</td>\n      <td>2020-05-02 04:51:50</td>\n      <td>why is playboi carti on a track called  pain 1...</td>\n      <td>ravi_chander</td>\n    </tr>\n    <tr>\n      <th>769</th>\n      <td>577</td>\n      <td>Detroit ➡️Irmo, SC. 🐊UF Alumni Shoe Architect....</td>\n      <td>352</td>\n      <td>0</td>\n      <td>0</td>\n      <td>pos</td>\n      <td>2020-05-02 04:47:04</td>\n      <td>drake fans when darklanedemotapes came out \\n\\...</td>\n      <td>ray_5</td>\n    </tr>\n    <tr>\n      <th>770</th>\n      <td>578</td>\n      <td>💍👰🏻 👼🏽 | Free ur mind my motto - MM | 99% of m...</td>\n      <td>1060</td>\n      <td>0</td>\n      <td>0</td>\n      <td>pos</td>\n      <td>2020-05-02 04:46:33</td>\n      <td>how you gon' treat this shit like you gon' ge...</td>\n      <td>MyCoolMosby</td>\n    </tr>\n    <tr>\n      <th>771</th>\n      <td>579</td>\n      <td>You know da vibez</td>\n      <td>95</td>\n      <td>0</td>\n      <td>0</td>\n      <td>pos</td>\n      <td>2020-05-02 04:45:05</td>\n      <td>landed hittin   darklanedemotapes</td>\n      <td>sandddrad</td>\n    </tr>\n    <tr>\n      <th>772</th>\n      <td>580</td>\n      <td>💍👰🏻 👼🏽 | Free ur mind my motto - MM | 99% of m...</td>\n      <td>1060</td>\n      <td>0</td>\n      <td>0</td>\n      <td>pos</td>\n      <td>2020-05-02 04:45:03</td>\n      <td>i will split heads and break necks for my lit...</td>\n      <td>MyCoolMosby</td>\n    </tr>\n    <tr>\n      <th>773</th>\n      <td>581</td>\n      <td>💍👰🏻 👼🏽 | Free ur mind my motto - MM | 99% of m...</td>\n      <td>1060</td>\n      <td>0</td>\n      <td>0</td>\n      <td>pos</td>\n      <td>2020-05-02 04:43:56</td>\n      <td>i decide what to see next like it's on demand...</td>\n      <td>MyCoolMosby</td>\n    </tr>\n    <tr>\n      <th>774</th>\n      <td>582</td>\n      <td>Young. Black. &amp; Educated.</td>\n      <td>554</td>\n      <td>0</td>\n      <td>0</td>\n      <td>pos</td>\n      <td>2020-05-02 04:43:25</td>\n      <td>after a long day of napping...i m finally sitt...</td>\n      <td>PradaBanks07</td>\n    </tr>\n    <tr>\n      <th>775</th>\n      <td>583</td>\n      <td>Computer Scientist | Software Developer | Rap ...</td>\n      <td>4930</td>\n      <td>3</td>\n      <td>0</td>\n      <td>pos</td>\n      <td>2020-05-02 04:42:08</td>\n      <td>wait and see AT_USER give darklanedemotapes a ...</td>\n      <td>FMugaviri</td>\n    </tr>\n    <tr>\n      <th>776</th>\n      <td>584</td>\n      <td>💍👰🏻 👼🏽 | Free ur mind my motto - MM | 99% of m...</td>\n      <td>1060</td>\n      <td>0</td>\n      <td>0</td>\n      <td>pos</td>\n      <td>2020-05-02 04:41:57</td>\n      <td>register the business in my brother s name \\n...</td>\n      <td>MyCoolMosby</td>\n    </tr>\n    <tr>\n      <th>777</th>\n      <td>585</td>\n      <td>💍👰🏻 👼🏽 | Free ur mind my motto - MM | 99% of m...</td>\n      <td>1060</td>\n      <td>0</td>\n      <td>0</td>\n      <td>pos</td>\n      <td>2020-05-02 04:40:15</td>\n      <td>half the time, i question my consciousness in...</td>\n      <td>MyCoolMosby</td>\n    </tr>\n    <tr>\n      <th>778</th>\n      <td>586</td>\n      <td>Don’t @ me</td>\n      <td>798</td>\n      <td>8</td>\n      <td>0</td>\n      <td>pos</td>\n      <td>2020-05-02 04:39:30</td>\n      <td>bar for bar. lyric for lyric. when to say when...</td>\n      <td>CJacoby_24</td>\n    </tr>\n    <tr>\n      <th>779</th>\n      <td>587</td>\n      <td>ΞVERYBODY</td>\n      <td>155</td>\n      <td>4</td>\n      <td>1</td>\n      <td>pos</td>\n      <td>2020-05-02 04:39:25</td>\n      <td>tiktok is on another level of being creative  ...</td>\n      <td>MorozHD</td>\n    </tr>\n    <tr>\n      <th>780</th>\n      <td>588</td>\n      <td>👀</td>\n      <td>25</td>\n      <td>4</td>\n      <td>1</td>\n      <td>pos</td>\n      <td>2020-05-02 04:34:50</td>\n      <td>me on ft with playboi carti after that pain 19...</td>\n      <td>iamlarrymo</td>\n    </tr>\n    <tr>\n      <th>781</th>\n      <td>589</td>\n      <td>💍👰🏻 👼🏽 | Free ur mind my motto - MM | 99% of m...</td>\n      <td>1060</td>\n      <td>1</td>\n      <td>0</td>\n      <td>pos</td>\n      <td>2020-05-02 04:34:48</td>\n      <td>i got all these blessings just to give it to ...</td>\n      <td>MyCoolMosby</td>\n    </tr>\n    <tr>\n      <th>782</th>\n      <td>590</td>\n      <td>Beatmaker belge// 16 ans // 🇧🇪🇲🇦//📍13//\\nConta...</td>\n      <td>211</td>\n      <td>3</td>\n      <td>0</td>\n      <td>pos</td>\n      <td>2020-05-02 04:34:09</td>\n      <td>cloud\\nAT_USER AT_USER\\n----------------------...</td>\n      <td>zmxbeats</td>\n    </tr>\n    <tr>\n      <th>783</th>\n      <td>591</td>\n      <td>Gamer/Poet/Abstract Artist. I’m him the Black ...</td>\n      <td>415</td>\n      <td>0</td>\n      <td>0</td>\n      <td>pos</td>\n      <td>2020-05-02 04:34:03</td>\n      <td>things that will be said when wrestling has cr...</td>\n      <td>7RedKnights</td>\n    </tr>\n    <tr>\n      <th>784</th>\n      <td>592</td>\n      <td>💍👰🏻 👼🏽 | Free ur mind my motto - MM | 99% of m...</td>\n      <td>1060</td>\n      <td>0</td>\n      <td>0</td>\n      <td>pos</td>\n      <td>2020-05-02 04:32:28</td>\n      <td>no one can love you like ur mother can  whent...</td>\n      <td>MyCoolMosby</td>\n    </tr>\n    <tr>\n      <th>785</th>\n      <td>593</td>\n      <td>Spitter of all things Venomous, Destroyer of W...</td>\n      <td>504</td>\n      <td>0</td>\n      <td>0</td>\n      <td>pos</td>\n      <td>2020-05-02 04:32:00</td>\n      <td>the copyright nazi s bout to take this video d...</td>\n      <td>VENNIV</td>\n    </tr>\n    <tr>\n      <th>786</th>\n      <td>594</td>\n      <td>Millions Loading 💰.........| Entertain Educate...</td>\n      <td>4809</td>\n      <td>0</td>\n      <td>0</td>\n      <td>pos</td>\n      <td>2020-05-02 04:30:41</td>\n      <td>darklanedemotapes flow....</td>\n      <td>eric_loso300</td>\n    </tr>\n    <tr>\n      <th>787</th>\n      <td>595</td>\n      <td>24. 🇵🇷🇲🇽</td>\n      <td>379</td>\n      <td>1</td>\n      <td>0</td>\n      <td>pos</td>\n      <td>2020-05-02 04:29:47</td>\n      <td>i done got a different number 'cause i'm close...</td>\n      <td>EliRamosJr</td>\n    </tr>\n    <tr>\n      <th>788</th>\n      <td>596</td>\n      <td>NaN</td>\n      <td>11</td>\n      <td>2</td>\n      <td>0</td>\n      <td>pos</td>\n      <td>2020-05-02 04:28:05</td>\n      <td>but i treated you like gold, i was all in\\nsp...</td>\n      <td>A416etc</td>\n    </tr>\n    <tr>\n      <th>789</th>\n      <td>597</td>\n      <td>Dream chaser 😈🏈. Mark 5:36 🙏🏽. #BlackLivesMatt...</td>\n      <td>228</td>\n      <td>1</td>\n      <td>0</td>\n      <td>pos</td>\n      <td>2020-05-02 04:26:30</td>\n      <td>from florida with love easily best song on dar...</td>\n      <td>MisterJay23</td>\n    </tr>\n    <tr>\n      <th>790</th>\n      <td>598</td>\n      <td>Never not listening.</td>\n      <td>1147021</td>\n      <td>382</td>\n      <td>27</td>\n      <td>pos</td>\n      <td>2020-05-02 04:22:15</td>\n      <td>we spoke with five of AT_USER collaborators ab...</td>\n      <td>ComplexMusic</td>\n    </tr>\n    <tr>\n      <th>791</th>\n      <td>599</td>\n      <td>Don’t follow me, this is my freedom acct &amp; it’...</td>\n      <td>43</td>\n      <td>1</td>\n      <td>0</td>\n      <td>pos</td>\n      <td>2020-05-02 04:21:06</td>\n      <td>it s here   darklanedemotapes URL</td>\n      <td>rothbass</td>\n    </tr>\n    <tr>\n      <th>792</th>\n      <td>600</td>\n      <td>you’ll see more when you’re quiet🏔🦅</td>\n      <td>980</td>\n      <td>0</td>\n      <td>0</td>\n      <td>pos</td>\n      <td>2020-05-02 04:12:51</td>\n      <td>* hours * darklanedemotapes  URL</td>\n      <td>ChamarRache</td>\n    </tr>\n    <tr>\n      <th>793</th>\n      <td>601</td>\n      <td>NaN</td>\n      <td>173</td>\n      <td>0</td>\n      <td>0</td>\n      <td>pos</td>\n      <td>2020-05-02 04:03:41</td>\n      <td>i'm outside in an amg\\nright outside tt  darkl...</td>\n      <td>Fleeto_NYC</td>\n    </tr>\n    <tr>\n      <th>794</th>\n      <td>602</td>\n      <td>Life is good.</td>\n      <td>250</td>\n      <td>0</td>\n      <td>0</td>\n      <td>pos</td>\n      <td>2020-05-02 04:03:16</td>\n      <td>carti couldve done better!!! darklanedemotapes</td>\n      <td>locotron2591</td>\n    </tr>\n  </tbody>\n</table>\n<p>795 rows × 9 columns</p>\n</div>",
            "text/plain": "     Unnamed: 0                                               Bios  Followers  \\\n0             0  NYC🗽| NJ 🧱 Last account suspended @ 4K 🙄 Model...        631   \n1             1  FL📍 | DMV | NYC Jeremiah 29:11 The sparkle dep...       1280   \n2             2  made in 🇵🇷  : unOrdinary : ♥️⚓️✝️ :    a mi na...          7   \n3             3                    Social Media Strategist @Tasty✨        418   \n4             4  writing a book on the link between brain damag...        969   \n5             5                                Making Culture Pop.    2215798   \n6             6  Father God forgive me ima be sinning for a min...          6   \n7             7                                         III Nana 💙         49   \n8             8  🅙🅤🅢🅣 🅐 🅢🅐🅜🅟🅛🅔 ➋ Λｖａｉｌａｂｌｅ ＯＮ 𝙰𝙻𝙻 𝙼𝚊𝚓𝚘𝚛 MUSIC P...      21488   \n9             9  If I see it, so do you. Mike Maccagnan should ...       4661   \n10           10                  ☁️Streetwear ☁️Interviews ☁️Vlogs          4   \n11           11  The Specialist. Resume: @XXL, @Vibe, @MassAppe...       2013   \n12           12                            https://t.co/8qftZVJV3m         57   \n13           13  There's more to life. Follow us on IG:@Kulture...       1215   \n14           14  Writer, Comic Persona, Musician, Political and...        548   \n15           15                                              25|🇱🇰       1254   \n16           16                     Wash ur hands and stay home ♥️        740   \n17           17                     Wash ur hands and stay home ♥️        740   \n18           18         🤵🏿👰🏾💍 4️⃣1️⃣4️⃣1️⃣9️⃣ 🐝👶🏾🧸 5️⃣2️⃣1️⃣1️⃣9️⃣         56   \n19           19  Home of the Marvel™️ Aficionado!!!! YouTube Ch...         53   \n20           20                                    I love to sing.      12414   \n21           21   future artistic genius ig:@aartimisaa 19 FIT ‘23        430   \n22           22  I complain about my teams a lot. NYJ, NYY, NYK...        242   \n23           23  In all seriousness.. I’m not really being seri...        100   \n24           24  Queens Kid | Journalist @BSO | MLB Stats Guy |...        586   \n25           25                     Onliest. life cars music etc ♑        656   \n26           26                                           MUFC. 🇱🇸         50   \n27           27                  NBA // Music // Food // gym rat 🐭         76   \n28           28  Empowering women to love & be themselves by em...        455   \n29           29                      #Slytherin #ILoveYou3000 #XRP       3957   \n..          ...                                                ...        ...   \n765         573      Devil on my shoulder.. The Lord is my witness       1240   \n766         574                      Follow my main @jimmyhendriix         25   \n767         575                     IG : @dj.STRETCH @EXTATICSOUND       1287   \n768         576  Western, Ryerson, Finance Major, Investor, Foo...         88   \n769         577  Detroit ➡️Irmo, SC. 🐊UF Alumni Shoe Architect....        352   \n770         578  💍👰🏻 👼🏽 | Free ur mind my motto - MM | 99% of m...       1060   \n771         579                                  You know da vibez         95   \n772         580  💍👰🏻 👼🏽 | Free ur mind my motto - MM | 99% of m...       1060   \n773         581  💍👰🏻 👼🏽 | Free ur mind my motto - MM | 99% of m...       1060   \n774         582                          Young. Black. & Educated.        554   \n775         583  Computer Scientist | Software Developer | Rap ...       4930   \n776         584  💍👰🏻 👼🏽 | Free ur mind my motto - MM | 99% of m...       1060   \n777         585  💍👰🏻 👼🏽 | Free ur mind my motto - MM | 99% of m...       1060   \n778         586                                         Don’t @ me        798   \n779         587                                          ΞVERYBODY        155   \n780         588                                                  👀         25   \n781         589  💍👰🏻 👼🏽 | Free ur mind my motto - MM | 99% of m...       1060   \n782         590  Beatmaker belge// 16 ans // 🇧🇪🇲🇦//📍13//\\nConta...        211   \n783         591  Gamer/Poet/Abstract Artist. I’m him the Black ...        415   \n784         592  💍👰🏻 👼🏽 | Free ur mind my motto - MM | 99% of m...       1060   \n785         593  Spitter of all things Venomous, Destroyer of W...        504   \n786         594  Millions Loading 💰.........| Entertain Educate...       4809   \n787         595                                           24. 🇵🇷🇲🇽        379   \n788         596                                                NaN         11   \n789         597  Dream chaser 😈🏈. Mark 5:36 🙏🏽. #BlackLivesMatt...        228   \n790         598                               Never not listening.    1147021   \n791         599  Don’t follow me, this is my freedom acct & it’...         43   \n792         600                you’ll see more when you’re quiet🏔🦅        980   \n793         601                                                NaN        173   \n794         602                                      Life is good.        250   \n\n     Likes  Retweets Sentiment                 Time  \\\n0        2         0       pos  2020-05-01 23:57:33   \n1        1         0       neg  2020-05-01 23:53:53   \n2        0         0       pos  2020-05-01 23:39:14   \n3       12         4       pos  2020-05-01 23:11:23   \n4        0         0       pos  2020-05-01 23:09:02   \n5      189        23       pos  2020-05-01 22:32:56   \n6        0         0       pos  2020-05-01 22:21:31   \n7        0         0       pos  2020-05-01 22:20:19   \n8        0         0       pos  2020-05-01 22:13:29   \n9        2         1       pos  2020-05-01 21:52:26   \n10       0         0       pos  2020-05-01 20:59:10   \n11       0         0       pos  2020-05-01 20:51:54   \n12       0         0       pos  2020-05-01 20:23:17   \n13       1         0       pos  2020-05-01 20:17:18   \n14       0         0       pos  2020-05-01 19:30:16   \n15       1         0       pos  2020-05-01 19:22:33   \n16       0         0       pos  2020-05-01 19:19:42   \n17       0         0       pos  2020-05-01 19:18:00   \n18       0         0       pos  2020-05-01 18:56:19   \n19       0         0       pos  2020-05-01 18:48:12   \n20       2         0       pos  2020-05-01 18:34:16   \n21       0         0       pos  2020-05-01 18:30:46   \n22       1         0       pos  2020-05-01 18:29:59   \n23       1         0       pos  2020-05-01 18:28:41   \n24       0         0       pos  2020-05-01 18:21:22   \n25       0         0       pos  2020-05-01 18:19:52   \n26       0         0       pos  2020-05-01 18:11:12   \n27       0         0       pos  2020-05-01 18:06:22   \n28       0         0       pos  2020-05-01 17:53:48   \n29       0         0       pos  2020-05-01 17:40:09   \n..     ...       ...       ...                  ...   \n765      0         0       pos  2020-05-02 05:05:29   \n766      1         0       pos  2020-05-02 04:58:30   \n767      0         0       pos  2020-05-02 04:57:31   \n768      0         0       pos  2020-05-02 04:51:50   \n769      0         0       pos  2020-05-02 04:47:04   \n770      0         0       pos  2020-05-02 04:46:33   \n771      0         0       pos  2020-05-02 04:45:05   \n772      0         0       pos  2020-05-02 04:45:03   \n773      0         0       pos  2020-05-02 04:43:56   \n774      0         0       pos  2020-05-02 04:43:25   \n775      3         0       pos  2020-05-02 04:42:08   \n776      0         0       pos  2020-05-02 04:41:57   \n777      0         0       pos  2020-05-02 04:40:15   \n778      8         0       pos  2020-05-02 04:39:30   \n779      4         1       pos  2020-05-02 04:39:25   \n780      4         1       pos  2020-05-02 04:34:50   \n781      1         0       pos  2020-05-02 04:34:48   \n782      3         0       pos  2020-05-02 04:34:09   \n783      0         0       pos  2020-05-02 04:34:03   \n784      0         0       pos  2020-05-02 04:32:28   \n785      0         0       pos  2020-05-02 04:32:00   \n786      0         0       pos  2020-05-02 04:30:41   \n787      1         0       pos  2020-05-02 04:29:47   \n788      2         0       pos  2020-05-02 04:28:05   \n789      1         0       pos  2020-05-02 04:26:30   \n790    382        27       pos  2020-05-02 04:22:15   \n791      1         0       pos  2020-05-02 04:21:06   \n792      0         0       pos  2020-05-02 04:12:51   \n793      0         0       pos  2020-05-02 04:03:41   \n794      0         0       pos  2020-05-02 04:03:16   \n\n                                                 Tweet             User  \n0    okay so i know drake never disappoints but whe...   therealemiliaa  \n1    me watching everyone praise drake for the new ...        Kimeraaa_  \n2    AT_USER who are you talking about in losses? f...       Rebulera89  \n3    i made this for you AT_USER darklanedemotapes URL        angiekraz  \n4    ight go ahead what s the best song on darklane...   detectiv3konan  \n5    from the hills of los angeles   to new york ci...          Complex  \n6    who had the better  quarantine bars AT_USER or...        ike3hunna  \n7    i literally love every song on AT_USER album d...      vgotthetea1  \n8                    thank god 4 darklanedemotapes         ClassyBlassy  \n9    drake canada montreal jamaica morelife houston...           klew24  \n10   dark lanes demo tape or scorpion drake darklan...         HyestAve  \n11   darklanedemotapes is the most well-received dr...  CrooklynsDodger  \n12          drake thinks hes so uk   darklanedemotapes        abokinlaa  \n13   raise your hand if you bumping that new drake?...       KultureHub  \n14   ayo AT_USER the new darklanedemotapes is aight...       MrScotFree  \n15   losses is def one of the best ones on darklane...       Rangaaaa__  \n16   i m probably annoying my roommates with demons...         Lahtiyaz  \n17   im more in love today than ever before darklan...         Lahtiyaz  \n18   demons is hitting right now  ...\\ndarklanedemo...      BigeffinKev  \n19   alcohol wiping the new additions to the collec...   3vry1lvsgdstry  \n20   very surprised drake doesn't have a lyric abou...      CathiaSings  \n21   i m in this bihhh w the wooski   darklanedemot...        misosbowl  \n22   thank you AT_USER for releasing darklanedemota...      DT_Hickey23  \n23   me realizing every drake song is my jam darkla...        taraleeco  \n24   no one has perfected providing limitless quota...  StephenFlorival  \n25   this rides. might have to pull the jeep out ov...         PdotHALL  \n26   the transition from not you too to toostie sli...   DavidMapheleba  \n27                  darklanedemotapes at least 6,9/10!       Swa69yNets  \n28   drake just knew he killed it in  when to say w...      shanteljcx3  \n29   \"you love me and i love you\\nyour head hurts a...        MageXJohn  \n..                                                 ...              ...  \n765                            darklanedemotapes slaps    TheRealJacoby  \n766  when AT_USER said  house on both coasts but i ...          TednotX  \n767  rather see my heart turn crystal darklanedemot...      Dj_Stretch_  \n768  why is playboi carti on a track called  pain 1...     ravi_chander  \n769  drake fans when darklanedemotapes came out \\n\\...            ray_5  \n770   how you gon' treat this shit like you gon' ge...      MyCoolMosby  \n771                  landed hittin   darklanedemotapes        sandddrad  \n772   i will split heads and break necks for my lit...      MyCoolMosby  \n773   i decide what to see next like it's on demand...      MyCoolMosby  \n774  after a long day of napping...i m finally sitt...     PradaBanks07  \n775  wait and see AT_USER give darklanedemotapes a ...        FMugaviri  \n776   register the business in my brother s name \\n...      MyCoolMosby  \n777   half the time, i question my consciousness in...      MyCoolMosby  \n778  bar for bar. lyric for lyric. when to say when...       CJacoby_24  \n779  tiktok is on another level of being creative  ...          MorozHD  \n780  me on ft with playboi carti after that pain 19...       iamlarrymo  \n781   i got all these blessings just to give it to ...      MyCoolMosby  \n782  cloud\\nAT_USER AT_USER\\n----------------------...         zmxbeats  \n783  things that will be said when wrestling has cr...      7RedKnights  \n784   no one can love you like ur mother can  whent...      MyCoolMosby  \n785  the copyright nazi s bout to take this video d...           VENNIV  \n786                         darklanedemotapes flow....     eric_loso300  \n787  i done got a different number 'cause i'm close...       EliRamosJr  \n788   but i treated you like gold, i was all in\\nsp...          A416etc  \n789  from florida with love easily best song on dar...      MisterJay23  \n790  we spoke with five of AT_USER collaborators ab...     ComplexMusic  \n791                  it s here   darklanedemotapes URL         rothbass  \n792                   * hours * darklanedemotapes  URL      ChamarRache  \n793  i'm outside in an amg\\nright outside tt  darkl...       Fleeto_NYC  \n794     carti couldve done better!!! darklanedemotapes     locotron2591  \n\n[795 rows x 9 columns]"
          },
          "metadata": {}
        }
      ]
    },
    {
      "metadata": {
        "trusted": true
      },
      "cell_type": "code",
      "source": "",
      "execution_count": null,
      "outputs": []
    },
    {
      "metadata": {
        "trusted": true
      },
      "cell_type": "code",
      "source": "",
      "execution_count": null,
      "outputs": []
    },
    {
      "metadata": {
        "trusted": true
      },
      "cell_type": "code",
      "source": "tweetfreq = processor.tweetprocessor(alltweets,new_stop_words)\ntweetfreq",
      "execution_count": 11,
      "outputs": [
        {
          "output_type": "execute_result",
          "execution_count": 11,
          "data": {
            "text/html": "<div>\n<table border=\"1\" class=\"dataframe\">\n  <thead>\n    <tr style=\"text-align: right;\">\n      <th></th>\n      <th>words</th>\n      <th>count</th>\n    </tr>\n  </thead>\n  <tbody>\n    <tr>\n      <th>0</th>\n      <td>darklanedemotapes</td>\n      <td>623</td>\n    </tr>\n    <tr>\n      <th>1</th>\n      <td>at_user</td>\n      <td>268</td>\n    </tr>\n    <tr>\n      <th>2</th>\n      <td>drake</td>\n      <td>262</td>\n    </tr>\n    <tr>\n      <th>3</th>\n      <td>new</td>\n      <td>90</td>\n    </tr>\n    <tr>\n      <th>4</th>\n      <td>like</td>\n      <td>66</td>\n    </tr>\n    <tr>\n      <th>5</th>\n      <td>album</td>\n      <td>49</td>\n    </tr>\n    <tr>\n      <th>6</th>\n      <td>song</td>\n      <td>46</td>\n    </tr>\n    <tr>\n      <th>7</th>\n      <td>time</td>\n      <td>41</td>\n    </tr>\n    <tr>\n      <th>8</th>\n      <td>love</td>\n      <td>39</td>\n    </tr>\n    <tr>\n      <th>9</th>\n      <td>one</td>\n      <td>34</td>\n    </tr>\n    <tr>\n      <th>10</th>\n      <td>mixtape</td>\n      <td>34</td>\n    </tr>\n    <tr>\n      <th>11</th>\n      <td>demo</td>\n      <td>32</td>\n    </tr>\n    <tr>\n      <th>12</th>\n      <td>&amp;amp;</td>\n      <td>31</td>\n    </tr>\n    <tr>\n      <th>13</th>\n      <td>got</td>\n      <td>30</td>\n    </tr>\n    <tr>\n      <th>14</th>\n      <td>lane</td>\n      <td>29</td>\n    </tr>\n    <tr>\n      <th>15</th>\n      <td>losses</td>\n      <td>28</td>\n    </tr>\n    <tr>\n      <th>16</th>\n      <td>project</td>\n      <td>27</td>\n    </tr>\n    <tr>\n      <th>17</th>\n      <td>chicago</td>\n      <td>27</td>\n    </tr>\n    <tr>\n      <th>18</th>\n      <td>say</td>\n      <td>27</td>\n    </tr>\n    <tr>\n      <th>19</th>\n      <td>listening</td>\n      <td>27</td>\n    </tr>\n    <tr>\n      <th>20</th>\n      <td>dark</td>\n      <td>26</td>\n    </tr>\n    <tr>\n      <th>21</th>\n      <td>freestyle</td>\n      <td>21</td>\n    </tr>\n    <tr>\n      <th>22</th>\n      <td>right</td>\n      <td>21</td>\n    </tr>\n    <tr>\n      <th>23</th>\n      <td>top</td>\n      <td>20</td>\n    </tr>\n    <tr>\n      <th>24</th>\n      <td>really</td>\n      <td>20</td>\n    </tr>\n    <tr>\n      <th>25</th>\n      <td>best</td>\n      <td>20</td>\n    </tr>\n    <tr>\n      <th>26</th>\n      <td>back</td>\n      <td>19</td>\n    </tr>\n    <tr>\n      <th>27</th>\n      <td>listen</td>\n      <td>19</td>\n    </tr>\n    <tr>\n      <th>28</th>\n      <td>tapes</td>\n      <td>19</td>\n    </tr>\n    <tr>\n      <th>29</th>\n      <td>music</td>\n      <td>19</td>\n    </tr>\n  </tbody>\n</table>\n</div>",
            "text/plain": "                words  count\n0   darklanedemotapes    623\n1             at_user    268\n2               drake    262\n3                 new     90\n4                like     66\n5               album     49\n6                song     46\n7                time     41\n8                love     39\n9                 one     34\n10            mixtape     34\n11               demo     32\n12              &amp;     31\n13                got     30\n14               lane     29\n15             losses     28\n16            project     27\n17            chicago     27\n18                say     27\n19          listening     27\n20               dark     26\n21          freestyle     21\n22              right     21\n23                top     20\n24             really     20\n25               best     20\n26               back     19\n27             listen     19\n28              tapes     19\n29              music     19"
          },
          "metadata": {}
        }
      ]
    },
    {
      "metadata": {
        "trusted": true
      },
      "cell_type": "code",
      "source": "",
      "execution_count": null,
      "outputs": []
    }
  ],
  "metadata": {
    "kernelspec": {
      "name": "python3",
      "display_name": "Python 3",
      "language": "python"
    },
    "language_info": {
      "mimetype": "text/x-python",
      "nbconvert_exporter": "python",
      "name": "python",
      "file_extension": ".py",
      "version": "3.5.4",
      "pygments_lexer": "ipython3",
      "codemirror_mode": {
        "version": 3,
        "name": "ipython"
      }
    }
  },
  "nbformat": 4,
  "nbformat_minor": 1
}